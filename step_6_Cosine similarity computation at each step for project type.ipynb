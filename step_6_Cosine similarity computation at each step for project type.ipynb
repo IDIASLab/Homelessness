{
 "cells": [
  {
   "cell_type": "code",
   "execution_count": null,
   "id": "7e5ef8e8",
   "metadata": {},
   "outputs": [],
   "source": [
    "import pandas as pd\n",
    "import matplotlib.pyplot as plt\n",
    "import seaborn as sns\n",
    "import numpy as np\n",
    "import os\n",
    "from sklearn.metrics.pairwise import cosine_similarity\n",
    "import warnings\n",
    "warnings.simplefilter(action='ignore', category=FutureWarning)\n"
   ]
  },
  {
   "cell_type": "code",
   "execution_count": null,
   "id": "64c1e671",
   "metadata": {},
   "outputs": [],
   "source": [
    "path =   # Enter the directory of your project folder\n",
    "PATH = path + \"/Results\"\n",
    "\n",
    "if not os.path.exists(PATH):\n",
    "    os.mkdir(PATH) "
   ]
  },
  {
   "cell_type": "code",
   "execution_count": null,
   "id": "62ecaeff",
   "metadata": {},
   "outputs": [],
   "source": [
    "df = pd.read_csv(path+\"//ToyDataset.csv\").drop(['Unnamed: 0'],axis=1)\n",
    "df1 = pd.read_csv(PATH+\"//Data one hot encoded.csv\").drop(['Unnamed: 0'],axis=1)\n",
    "clientID = df.ClientID.unique()\n",
    "\n",
    "df[\"EntryDate\"] = pd.to_datetime(df['EntryDate'])\n",
    "df[\"ExitDate\"] = pd.to_datetime(df['ExitDate'])\n",
    "df = df.sort_values([\"EntryDate\",'ExitDate']).reset_index(drop=True)\n",
    "df1[\"EntryDate\"] = pd.to_datetime(df1['EntryDate'])\n",
    "df1[\"ExitDate\"] = pd.to_datetime(df1['ExitDate'])\n",
    "df1 = df1.sort_values([\"EntryDate\",'ExitDate']).reset_index(drop=True)\n"
   ]
  },
  {
   "cell_type": "code",
   "execution_count": null,
   "id": "4501cc27",
   "metadata": {},
   "outputs": [],
   "source": [
    "# for each step and project type\n",
    "# preparing the effective path for each client with aggregated features f \n",
    "data = pd.DataFrame()\n",
    "for i in range(len(clientID)):\n",
    "    temp = df[df[\"ClientID\"]==clientID[i]].reset_index(drop=True)\n",
    "    temp1 = df1[df1[\"ClientID\"]==clientID[i]].reset_index(drop=True)\n",
    "    p_unique = temp['ProjectType'].unique()\n",
    "    \n",
    "    #for each efective path step, considering the features fo the first appearance of the project type only\n",
    "    for k in range(len(p_unique)):\n",
    "        #taking out the features\n",
    "        temp3 = temp1[temp1['ProjectType']==p_unique[k]].drop(['EnrollmentID', 'ClientID', 'ProjectID', 'EntryDate', 'ProjectType',\n",
    "       'ExitID', 'ExitDate', 'HouseholdID'],axis=1).iloc[0]\n",
    "        #taking out the project type\n",
    "        ptype = pd.DataFrame({'Step':k+1,'ClientID':clientID[i],\"ProjectType\":p_unique[k]},index=[0]).T\n",
    "        #combining the project type and the averaged feature\n",
    "        temp4 = pd.concat([ptype,temp3],axis = 0).T\n",
    "        data = data.append(temp4).reset_index(drop=True)\n",
    "data.to_csv(PATH+\"//Data for cosine similarity with effective path and mean aggregated feature-project type.csv\")\n",
    "data = pd.read_csv(PATH+\"//Data for cosine similarity with effective path and mean aggregated feature-project type.csv\").drop(['Unnamed: 0'],axis=1)\n",
    "\n"
   ]
  },
  {
   "cell_type": "code",
   "execution_count": null,
   "id": "56d5e74e",
   "metadata": {},
   "outputs": [],
   "source": [
    "# separating the living situation and the exit destination into categories\n",
    "goal = [10,11]\n",
    "closer = [3,19,20,21,22,23,25,26,28,31]\n",
    "trans = [1,2,4,5,6,12,13,14,15,18,27,29]\n",
    "no_progress = [7,16]\n",
    "hard_to_judge = [8,9,17,24,30,99]"
   ]
  },
  {
   "cell_type": "code",
   "execution_count": null,
   "id": "79af0efc",
   "metadata": {},
   "outputs": [],
   "source": [
    "# for each target\n",
    "# preparing the feature set by cosindering the features of the last step as the feature of the target\n",
    "data_target = pd.DataFrame()\n",
    "for i in range(len(clientID)):\n",
    "    temp = df[df[\"ClientID\"]==clientID[i]].reset_index(drop=True)\n",
    "    temp1 = df1[df1[\"ClientID\"]==clientID[i]].reset_index(drop=True)\n",
    "    if temp['Destination'].iloc[-1] in goal:\n",
    "        temp3 = temp1.drop(['EnrollmentID', 'ClientID', 'ProjectID', 'EntryDate', 'ProjectType','ExitID', 'ExitDate', 'HouseholdID'],axis=1).iloc[-1]\n",
    "        ttype = pd.DataFrame({'ClientID':clientID[i],\"target\":'ultimate goal'},index=[0]).T\n",
    "        temp4 = pd.concat([ttype,temp3],axis = 0).T\n",
    "        data_target = data_target.append(temp4).reset_index(drop=True)\n",
    "    elif temp['Destination'].iloc[-1] in  closer:\n",
    "        temp3 = temp1.drop(['EnrollmentID', 'ClientID', 'ProjectID', 'EntryDate', 'ProjectType','ExitID', 'ExitDate', 'HouseholdID'],axis=1).iloc[-1]\n",
    "        ttype = pd.DataFrame({'ClientID':clientID[i],\"target\":'closer to exit'},index=[0]).T\n",
    "        temp4 = pd.concat([ttype,temp3],axis = 0).T\n",
    "        data_target = data_target.append(temp4).reset_index(drop=True)\n",
    "    elif temp['Destination'].iloc[-1] in trans:\n",
    "        temp3 = temp1.drop(['EnrollmentID', 'ClientID', 'ProjectID', 'EntryDate', 'ProjectType','ExitID', 'ExitDate', 'HouseholdID'],axis=1).iloc[-1]\n",
    "        ttype = pd.DataFrame({'ClientID':clientID[i],\"target\":'transitional phase'},index=[0]).T\n",
    "        temp4 = pd.concat([ttype,temp3],axis = 0).T\n",
    "        data_target = data_target.append(temp4).reset_index(drop=True)\n",
    "    elif temp['Destination'].iloc[-1] in no_progress:\n",
    "        temp3 = temp1.drop(['EnrollmentID', 'ClientID', 'ProjectID', 'EntryDate', 'ProjectType','ExitID', 'ExitDate', 'HouseholdID'],axis=1).iloc[-1]\n",
    "        ttype = pd.DataFrame({'ClientID':clientID[i],\"target\":'no progress or worse'},index=[0]).T\n",
    "        temp4 = pd.concat([ttype,temp3],axis = 0).T\n",
    "        data_target = data_target.append(temp4).reset_index(drop=True)\n",
    "    elif temp['Destination'].iloc[-1] in hard_to_judge:\n",
    "        temp3 = temp1.drop(['EnrollmentID', 'ClientID', 'ProjectID', 'EntryDate', 'ProjectType','ExitID', 'ExitDate', 'HouseholdID'],axis=1).iloc[-1]\n",
    "        ttype = pd.DataFrame({'ClientID':clientID[i],\"target\":'hard to judge'},index=[0]).T\n",
    "        temp4 = pd.concat([ttype,temp3],axis = 0).T\n",
    "        data_target = data_target.append(temp4).reset_index(drop=True)\n",
    "    \n",
    "data_target.to_csv(PATH+\"//Data for cosine similarity with effective path and mean aggregated feature-target.csv\")\n",
    "data_target = pd.read_csv(PATH+\"//Data for cosine similarity with effective path and mean aggregated feature-target.csv\").drop(['Unnamed: 0'],axis=1)\n",
    "\n",
    "\n"
   ]
  },
  {
   "cell_type": "code",
   "execution_count": null,
   "id": "64aa163a",
   "metadata": {},
   "outputs": [],
   "source": [
    "project = data.groupby(['Step','ProjectType']).sum()    \n",
    "target = data_target.groupby('target').sum()"
   ]
  },
  {
   "cell_type": "code",
   "execution_count": null,
   "id": "764042ab",
   "metadata": {
    "scrolled": true
   },
   "outputs": [],
   "source": [
    "F = pd.DataFrame()\n",
    "for i in data.Step.unique():\n",
    "    temp = project.loc[i]\n",
    "    temp = temp.append(target).reset_index()\n",
    "    temp['Step'] = [i for k in range(len(temp))]\n",
    "    #combining the step and the TF-IDF\n",
    "    F = F.append(temp)\n",
    "F = F.groupby(['Step',\"index\"]).sum()\n",
    "\n",
    "    "
   ]
  },
  {
   "cell_type": "code",
   "execution_count": null,
   "id": "727c2be6",
   "metadata": {},
   "outputs": [],
   "source": [
    "# calculating tf_idf for each step \n",
    "t = [\"ultimate goal\",\"closer to exit\",\"transitional phase\",\"no progress or worse\",\"hard to judge\"]\n",
    "tf_idf_norm_combo = pd.DataFrame()\n",
    "\n",
    "a = 1\n",
    "for a in data.Step.unique():\n",
    "    print(a)\n",
    "    F1 = F.loc[a]\n",
    "    p = [x for x in F1.index]\n",
    "    P = len(p)\n",
    "    tf_idf = pd.DataFrame([],index = F1.index, columns = F1.columns)\n",
    "    for i in range(len(F1.index)):\n",
    "        for j in range(len(F1.columns)):\n",
    "            temp = F1[F1.columns[j]]\n",
    "            tf = temp.loc[F1.index[i]]\n",
    "            n = len(temp[temp!=0])+1\n",
    "            tf_idf.loc[F1.index[i]][F1.columns[j]] = tf * max(0,np.log(P/n))\n",
    "\n",
    "    tf_idf_norm = pd.DataFrame([],index = tf_idf.index, columns = tf_idf.columns)\n",
    "    for i in  p:\n",
    "        if np.sqrt(np.square(tf_idf).sum(axis=1)).loc[i] == 0:\n",
    "                tf_idf_norm.loc[i] = 0\n",
    "        else:\n",
    "            tf_idf_norm.loc[i] = tf_idf.loc[i]/np.sqrt(np.square(tf_idf).sum(axis=1)).loc[i]\n",
    "\n",
    "    tf_idf_norm['Step'] = [a for k in range(len(tf_idf_norm))]\n",
    "    #combining the step and the TF-IDF\n",
    "    tf_idf_norm_combo = tf_idf_norm_combo.append(tf_idf_norm)\n",
    "tf_idf_norm_combo = tf_idf_norm_combo.groupby(['Step',\"index\"]).sum()\n",
    "tf_idf_norm_combo.to_csv(PATH+\"//Normalized TF_IDF for project type and target for each step of effective path.csv\")\n",
    "\n",
    "\n"
   ]
  },
  {
   "cell_type": "code",
   "execution_count": null,
   "id": "52ce510f",
   "metadata": {},
   "outputs": [],
   "source": []
  }
 ],
 "metadata": {
  "kernelspec": {
   "display_name": "Python 3",
   "language": "python",
   "name": "python3"
  },
  "language_info": {
   "codemirror_mode": {
    "name": "ipython",
    "version": 3
   },
   "file_extension": ".py",
   "mimetype": "text/x-python",
   "name": "python",
   "nbconvert_exporter": "python",
   "pygments_lexer": "ipython3",
   "version": "3.8.8"
  }
 },
 "nbformat": 4,
 "nbformat_minor": 5
}
