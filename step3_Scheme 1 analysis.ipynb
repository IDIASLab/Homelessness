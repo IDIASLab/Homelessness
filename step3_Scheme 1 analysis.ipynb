{
 "cells": [
  {
   "cell_type": "code",
   "execution_count": null,
   "metadata": {},
   "outputs": [],
   "source": [
    "import pandas as pd\n",
    "import matplotlib.pyplot as plt\n",
    "import seaborn as sns\n",
    "import numpy as np\n",
    "import os\n"
   ]
  },
  {
   "cell_type": "code",
   "execution_count": null,
   "metadata": {},
   "outputs": [],
   "source": [
    "path = r\"C:\\Users\\bashi\\Documents\\Sadia\\US documents\\SUNY albany\\Charalampos Chelmis\\CARES homeless project\\Results\\Wayfinding_firstApproach\\20210527_Final Analysis for ASONAM\\Final Results\\Github\""
   ]
  },
  {
   "cell_type": "code",
   "execution_count": null,
   "metadata": {},
   "outputs": [],
   "source": [
    "# Dataframe preparation\n",
    "df = pd.read_csv(path+\"\\\\ToyDataset.csv\").drop(['Unnamed: 0'],axis=1)\n",
    "\n",
    "clientID = df[\"ClientID\"].unique()"
   ]
  },
  {
   "cell_type": "code",
   "execution_count": null,
   "metadata": {},
   "outputs": [],
   "source": [
    "# separating the living situation and the exit destination into categories\n",
    "stable = [2,3,10,11,12,13,14,15,19,20,21,22,23,25,26,27,28,31]\n",
    "unstable = [1,4,5,6,7,16,18,29]\n",
    "unknown = [8,9,17,24,30,99]\n"
   ]
  },
  {
   "cell_type": "code",
   "execution_count": null,
   "metadata": {},
   "outputs": [],
   "source": [
    "# labelling the data\n",
    "dest = pd.DataFrame([])\n",
    "exit = pd.DataFrame([])\n",
    "clientID = df.ClientID.unique()\n",
    "for i in range(len(clientID)):\n",
    "    temp = df[df['ClientID']==clientID[i]] \n",
    "    if (temp['LivingSituation'].iloc[0] in stable)  :\n",
    "        dest = dest.append({\"ClientID\":clientID[i],\"PathLength\":len(temp),\"entryFrom\":'stable'},ignore_index=True)\n",
    "    elif temp['LivingSituation'].iloc[0] in unstable:\n",
    "        dest = dest.append({\"ClientID\":clientID[i],\"PathLength\":len(temp),\"entryFrom\":'unstable'},ignore_index=True)\n",
    "    elif temp['LivingSituation'].iloc[0] in unknown:\n",
    "        dest = dest.append({\"ClientID\":clientID[i],\"PathLength\":len(temp),\"entryFrom\":'unknown'},ignore_index=True)\n",
    "    \n",
    "    if temp['Destination'].iloc[-1] in stable:\n",
    "        exit = exit.append({\"ClientID\":clientID[i],'exit':\"stable\"},ignore_index=True)\n",
    "    elif temp['Destination'].iloc[-1] in unstable:\n",
    "            exit = exit.append({\"ClientID\":clientID[i],'exit':\"unstable\"},ignore_index=True)\n",
    "    elif temp['Destination'].iloc[-1] in unknown:\n",
    "            exit = exit.append({\"ClientID\":clientID[i],'exit':\"unknown\"},ignore_index=True)\n",
    "    \n",
    "            \n",
    "data = pd.merge(dest,exit,on = \"ClientID\")\n",
    "data.to_csv(path + \"\\\\Scheme 2 labelled data.csv\")"
   ]
  },
  {
   "cell_type": "code",
   "execution_count": null,
   "metadata": {},
   "outputs": [],
   "source": [
    "# determining dropout probability trend\n",
    "\n",
    "data = pd.read_csv(path + \"\\\\Scheme 2 labelled data.csv\").drop(\"Unnamed: 0\", axis=1)\n",
    "\n",
    "data_drop = pd.DataFrame()\n",
    "for i in range(len(data)):\n",
    "    for j in np.arange(data.PathLength.min(),data.PathLength.max()+1):\n",
    "        if (j<data['PathLength'].iloc[i]):\n",
    "            data_drop = data_drop.append({\"ClientID\":data['ClientID'].iloc[i], \"PathLength\": data['PathLength'].iloc[i],\"DropOut\":\"reentry\",\"step\":j},ignore_index = True)\n",
    "        elif (j==data['PathLength'].iloc[i]):\n",
    "            if (data.iloc[i]['exit'] == \"unstable\") or (data.iloc[i]['exit'] == \"unknown\"):\n",
    "                data_drop = data_drop.append({\"ClientID\":data['ClientID'].iloc[i], \"PathLength\": data['PathLength'].iloc[i],\"DropOut\":'dropout',\"step\":j},ignore_index = True)\n",
    "            else:\n",
    "                data_drop = data_drop.append({\"ClientID\":data['ClientID'].iloc[i], \"PathLength\": data['PathLength'].iloc[i],\"DropOut\":'success',\"step\":j},ignore_index = True)\n",
    "        else:\n",
    "            continue\n",
    "\n",
    "loc = np.sort(data_drop[\"step\"].unique())\n",
    "data_drop_prob = pd.DataFrame()\n",
    "for y in loc:\n",
    "    temp = data_drop[data_drop['step'] == y]\n",
    "    dropout = len(temp[temp[\"DropOut\"]=='dropout'])/len(temp)\n",
    "    not_dropoutOrReentry = len(temp[temp[\"DropOut\"]=='success'])/len(temp) \n",
    "    reentry = len(temp[temp[\"DropOut\"]=='reentry'])/len(temp) \n",
    "    data_drop_prob = data_drop_prob.append({\"Path Position\":y,\"P(dropout)\":dropout,\"P(success)\":not_dropoutOrReentry, \"P(reentry)\":reentry},ignore_index=True)\n",
    "\n",
    "data_drop_prob['Dropout_MA'] = data_drop_prob.iloc[:,0].rolling(window=6).mean()\n",
    "data_drop_prob['Reentry_MA'] = data_drop_prob.iloc[:,1].rolling(window=6).mean()\n",
    "data_drop_prob['Success_MA'] = data_drop_prob.iloc[:,2].rolling(window=6).mean()\n",
    "\n",
    "plt.figure(figsize = (20,10))\n",
    "plt.plot(data_drop_prob['Path Position'],data_drop_prob['Dropout_MA'],marker = \"x\",linewidth = 2,label='Dropout')\n",
    "plt.plot(data_drop_prob['Path Position'],data_drop_prob['Reentry_MA'],marker = \"x\",linewidth = 2,label='Reentry')\n",
    "plt.plot(data_drop_prob['Path Position'],data_drop_prob['Success_MA'],marker = \"x\",linewidth = 2,label='Success')\n",
    "plt.legend(fontsize=16)\n",
    "plt.xticks(fontsize=16)\n",
    "plt.yticks(fontsize=16)\n",
    "plt.title(\"Scheme 2\",fontsize = 16)\n",
    "plt.savefig(path+\"\\Scheme 2 Drop-out probability with reentry_original.png\")"
   ]
  },
  {
   "cell_type": "code",
   "execution_count": null,
   "metadata": {},
   "outputs": [],
   "source": [
    "# calculatin cdf\n",
    "\n",
    "def cdf_plot(label,pdf,k):\n",
    "    plt.subplot(1,3,k)\n",
    "    size = 40\n",
    "    min_x = 40\n",
    "    max_x = 0\n",
    "    target = [\"stable\",\"unstable\",\"unknown\"]\n",
    "    index_tup=[(pdf.index.values[i][0],pdf.index.values[i][1]) for i in range(len(pdf.index.values))]    \n",
    "    for i in target:\n",
    "        if (label,i) not in index_tup:\n",
    "            continue\n",
    "        cdf = np.cumsum(pdf.loc[label,i]/pdf.loc[label,i].sum())\n",
    "        cdf[\"ClientID\"].plot(figsize = (30,10),marker=\"o\",label=label+\"-\"+i,linewidth = 4)\n",
    "        if cdf.index.min()<min_x:\n",
    "            min_x = cdf.index.min()\n",
    "        if cdf.index.max()>max_x:\n",
    "            max_x = cdf.index.max()\n",
    "    plt.legend(fontsize=size)\n",
    "    plt.grid()\n",
    "    # plt.yscale(\"symlog\")\n",
    "    # plt.xscale(\"symlog\")\n",
    "    plt.tight_layout()\n",
    "    plt.xlabel('', fontsize=size)\n",
    "    plt.yticks(fontsize=size)\n",
    "    plt.xticks(np.arange(min_x,max_x,6),fontsize =size)\n",
    "\n",
    "data = pd.read_csv(path + \"\\\\Scheme 2 labelled data.csv\").drop(\"Unnamed: 0\", axis=1)\n",
    "pdf = data.groupby(['entryFrom','exit','PathLength']).count()\n",
    "\n",
    "initial = [\"unstable\",\"stable\",\"unknown\"]\n",
    "[cdf_plot(initial[i],pdf,i+1) for i in range(len(initial))]\n",
    "plt.savefig(path+\"\\\\Scheme 2 Aggregated CDF.png\", bbox_inches = \"tight\")"
   ]
  },
  {
   "cell_type": "code",
   "execution_count": null,
   "metadata": {},
   "outputs": [],
   "source": []
  }
 ],
 "metadata": {
  "kernelspec": {
   "display_name": "Python 3",
   "language": "python",
   "name": "python3"
  },
  "language_info": {
   "codemirror_mode": {
    "name": "ipython",
    "version": 3
   },
   "file_extension": ".py",
   "mimetype": "text/x-python",
   "name": "python",
   "nbconvert_exporter": "python",
   "pygments_lexer": "ipython3",
   "version": "3.7.3"
  }
 },
 "nbformat": 4,
 "nbformat_minor": 2
}
