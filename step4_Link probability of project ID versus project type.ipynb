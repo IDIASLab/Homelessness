{
 "cells": [
  {
   "cell_type": "code",
   "execution_count": 2,
   "metadata": {},
   "outputs": [],
   "source": [
    "import pandas as pd\n",
    "import matplotlib.pyplot as plt\n",
    "import seaborn as sns\n",
    "import numpy as np\n",
    "import os\n",
    "from sklearn.metrics.pairwise import cosine_similarity\n"
   ]
  },
  {
   "cell_type": "code",
   "execution_count": 3,
   "metadata": {},
   "outputs": [],
   "source": [
    "path =   # Enter the directory of your project folder\n",
    "PATH = path + \"/Results\"\n",
    "\n",
    "if not os.path.exists(PATH):\n",
    "    os.mkdir(PATH) "
   ]
  },
  {
   "cell_type": "code",
   "execution_count": 5,
   "metadata": {},
   "outputs": [],
   "source": [
    "# calculating rank probability project ID\n",
    "edge_prob = pd.read_csv(PATH+\"//Edge Probability Project ID.csv\").drop(['Unnamed: 0'],axis=1)\n",
    "r = pd.read_csv(PATH+\"//rank Project ID.csv\")\n",
    "r = r.set_index(\"ProjectID\")\n",
    "rank_prob_ID = pd.DataFrame([],columns=['rank','prob'])\n",
    "\n",
    "for i in range(1,len(r.columns)+1):\n",
    "    prob = 0\n",
    "    edge_tup_rank = pd.Series([(r.index[j],r[str(i)].iloc[j]) for j in range(len(r))])\n",
    "    for k in range(len(edge_tup_rank)):\n",
    "        if len(edge_prob[edge_prob[\"edge\"]==str(edge_tup_rank.iloc[k])]['prob'])==0:\n",
    "            prob = prob + 0\n",
    "        else:\n",
    "            prob = prob + edge_prob[edge_prob[\"edge\"]==str(edge_tup_rank.iloc[k])]['prob'].values[0]\n",
    "    rank_prob_ID = rank_prob_ID.append({\"rank\":i,\"prob\":prob},ignore_index=True)\n",
    "\n",
    "# calculating rank probability\n",
    "edge_prob = pd.read_csv(PATH+\"//Edge Probability.csv\").drop(['Unnamed: 0'],axis=1)\n",
    "r = pd.read_csv(PATH+\"//rank.csv\")\n",
    "r = r.set_index(\"ProjectType\")\n",
    "rank_prob_type = pd.DataFrame([],columns=['rank','prob'])\n",
    "\n",
    "for i in range(1,len(r.columns)+1):\n",
    "    prob = 0\n",
    "    edge_tup_rank = pd.Series([(r.index[j],r[str(i)].iloc[j]) for j in range(len(r))])\n",
    "    for k in range(len(edge_tup_rank)):\n",
    "        if len(edge_prob[edge_prob[\"edge\"]==str(edge_tup_rank.iloc[k])]['prob'])==0:\n",
    "            prob = prob + 0\n",
    "        else:\n",
    "            prob = prob + edge_prob[edge_prob[\"edge\"]==str(edge_tup_rank.iloc[k])]['prob'].values[0]\n",
    "    rank_prob_type = rank_prob_type.append({\"rank\":i,\"prob\":prob},ignore_index=True)\n",
    "\n"
   ]
  },
  {
   "cell_type": "code",
   "execution_count": 7,
   "metadata": {},
   "outputs": [],
   "source": [
    "f = 25\n",
    "plt.figure(figsize=(20,10))\n",
    "plt.loglog(rank_prob_type['rank'],rank_prob_type['prob'],'o',marker = \"s\",color = 'k', label = \"Project Type\")\n",
    "plt.loglog(rank_prob_ID['rank'],rank_prob_ID['prob'],'o',color = 'c',label = \"Project ID\")\n",
    "plt.xlabel(\"Rank\",fontsize=f)\n",
    "plt.ylabel(\"P(r)\",fontsize=f)\n",
    "plt.xticks(fontsize=f)\n",
    "plt.yticks(fontsize=f)\n",
    "plt.savefig(PATH+\"//P(r)_distribution_ProjectID_ProjectType_log.png\")\n",
    "plt.close()\n"
   ]
  },
  {
   "cell_type": "code",
   "execution_count": null,
   "metadata": {},
   "outputs": [],
   "source": []
  }
 ],
 "metadata": {
  "kernelspec": {
   "display_name": "Python 3",
   "language": "python",
   "name": "python3"
  },
  "language_info": {
   "codemirror_mode": {
    "name": "ipython",
    "version": 3
   },
   "file_extension": ".py",
   "mimetype": "text/x-python",
   "name": "python",
   "nbconvert_exporter": "python",
   "pygments_lexer": "ipython3",
   "version": "3.8.8"
  }
 },
 "nbformat": 4,
 "nbformat_minor": 2
}
