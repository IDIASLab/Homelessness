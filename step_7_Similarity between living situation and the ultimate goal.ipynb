{
 "cells": [
  {
   "cell_type": "code",
   "execution_count": null,
   "id": "67df731a",
   "metadata": {},
   "outputs": [],
   "source": [
    "import pandas as pd\n",
    "import matplotlib.pyplot as plt\n",
    "import seaborn as sns\n",
    "import numpy as np\n",
    "import os\n",
    "import random as rn\n",
    "from sklearn.metrics.pairwise import cosine_similarity\n",
    "import warnings\n",
    "warnings.simplefilter(action='ignore', category=FutureWarning)\n"
   ]
  },
  {
   "cell_type": "code",
   "execution_count": null,
   "id": "78340547",
   "metadata": {},
   "outputs": [],
   "source": [
    "path =   # Enter the directory of your project folder\n",
    "PATH = path + \"/Results\"\n",
    "\n",
    "if not os.path.exists(PATH):\n",
    "    os.mkdir(PATH) "
   ]
  },
  {
   "cell_type": "code",
   "execution_count": null,
   "id": "a2014cf3",
   "metadata": {},
   "outputs": [],
   "source": [
    "df = pd.read_csv(path+\"//ToyDataset.csv\").drop(['Unnamed: 0'],axis=1)\n",
    "df1 = pd.read_csv(PATH+\"//Data one hot encoded.csv\").drop(['Unnamed: 0'],axis=1)\n",
    "clientID = df.ClientID.unique()\n",
    "\n",
    "df[\"EntryDate\"] = pd.to_datetime(df['EntryDate'])\n",
    "df[\"ExitDate\"] = pd.to_datetime(df['ExitDate'])\n",
    "df = df.sort_values([\"EntryDate\",'ExitDate']).reset_index(drop=True)\n",
    "df1[\"EntryDate\"] = pd.to_datetime(df1['EntryDate'])\n",
    "df1[\"ExitDate\"] = pd.to_datetime(df1['ExitDate'])\n",
    "df1 = df1.sort_values([\"EntryDate\",'ExitDate']).reset_index(drop=True)"
   ]
  },
  {
   "cell_type": "code",
   "execution_count": null,
   "id": "723ab5e7",
   "metadata": {},
   "outputs": [],
   "source": [
    "tf_idf_norm = pd.read_csv(PATH+\"//Normalized TF_IDF for project type and target for each step of effective path.csv\").set_index([\"Step\",'index'])\n",
    "\n"
   ]
  },
  {
   "cell_type": "code",
   "execution_count": null,
   "id": "d343aa04",
   "metadata": {},
   "outputs": [],
   "source": [
    "# separating the living situation and the exit destination into categories\n",
    "goal = [10,11]\n",
    "closer = [3,19,20,21,22,23,25,26,28,31]\n",
    "trans = [1,2,4,5,6,12,13,14,15,18,27,29]\n",
    "no_progress = [7,16]\n",
    "hard_to_judge = [8,9,17,24,30,99]"
   ]
  },
  {
   "cell_type": "code",
   "execution_count": null,
   "id": "6ad59b0b",
   "metadata": {},
   "outputs": [],
   "source": [
    "# Functions used:\n",
    "\n",
    "# recording effective pathway\n",
    "def effective_pathway_with_exit(df,df1,target,target_label):\n",
    "    client = df1.ClientID.unique()\n",
    "    pathway = pd.DataFrame()\n",
    "    for i in range(len(client)):\n",
    "        temp = df1[df1['ClientID']==client[i]]\n",
    "        temp1 = df[df['ClientID']==client[i]]\n",
    "        for k in range(len(target)):\n",
    "            if temp1['Destination'].iloc[-1] in target[k]:\n",
    "                exit_type = target_label[k]\n",
    "            if temp1['LivingSituation'].iloc[0] in target[k]:\n",
    "                entry_type = target_label[k]\n",
    "        pathway = pathway.append({\"ClientID\":client[i],\"path\":[entry_type]+list(temp['ProjectType'].unique())+[exit_type],\"length\": len(temp['ProjectType'].unique())},ignore_index=True)\n",
    "    return pathway\n",
    "    \n"
   ]
  },
  {
   "cell_type": "code",
   "execution_count": null,
   "id": "0202d14f",
   "metadata": {},
   "outputs": [],
   "source": [
    "pathway = effective_pathway_with_exit(df,df1,[goal,closer,trans,no_progress,hard_to_judge],['ultimate goal','closer to exit','transitional phase','no progress or worse','hard to judge'])"
   ]
  },
  {
   "cell_type": "code",
   "execution_count": null,
   "id": "d11e13de",
   "metadata": {},
   "outputs": [],
   "source": [
    "N = pathway.length.unique()\n",
    "cosine = pd.DataFrame(columns = ['length','similarity','target'])\n",
    "for n in N:\n",
    "    temp = pathway[pathway['length']==n]\n",
    "    for i in range(len(temp)):\n",
    "        cos = pd.DataFrame(tf_idf_norm.loc[1].loc[str(temp.iloc[i]['path'][0])])    \n",
    "        x = pd.DataFrame(tf_idf_norm.loc[n].loc['ultimate goal'])\n",
    "        cos = cos.T.append(x.T,ignore_index=True)\n",
    "        if temp.iloc[i]['path'][-1] == 'ultimate goal':\n",
    "            target = 'ultimate goal'\n",
    "        elif temp.iloc[i]['path'][-1] == 'closer to exit' or temp.iloc[i]['path'][-1] == 'transitional phase':\n",
    "            target = 'closer or trans'\n",
    "        elif temp.iloc[i]['path'][-1] == 'no progress or worse' or temp.iloc[i]['path'][-1] == 'hard to judge':\n",
    "            target = 'unsuccessful'\n",
    "        cosine = cosine.append({'length':n,'similarity':cosine_similarity(cos)[0][1],\"target\":target},ignore_index = True)            "
   ]
  },
  {
   "cell_type": "code",
   "execution_count": null,
   "id": "b9706897",
   "metadata": {},
   "outputs": [],
   "source": [
    "fontsize = 25\n",
    "cosine_avg = cosine.groupby(['target','length']).mean()\n",
    "plt.figure(figsize = (20,10))\n",
    "x = -0.2\n",
    "for i in ['ultimate goal','closer or trans','unsuccessful']:\n",
    "    if i == 'ultimate goal':\n",
    "        color = 'g'\n",
    "    elif i == 'closer or trans':\n",
    "        color = 'y'\n",
    "    elif i == 'unsuccessful':\n",
    "        color = 'r'\n",
    "    plt.bar(cosine_avg.loc[i].index+x,cosine_avg.loc[i]['similarity'],color = color,width = 0.2,label=i)\n",
    "    x = x+0.2\n",
    "ax = plt.legend(fontsize=fontsize)\n",
    "ax = plt.xticks([1,2,3,4],fontsize=fontsize)\n",
    "ax = plt.yticks(fontsize=fontsize)\n",
    "\n",
    "plt.savefig(PATH + \"//Similarity of the initial living situation with ultimate goal.png\")"
   ]
  },
  {
   "cell_type": "code",
   "execution_count": null,
   "id": "542f9d86",
   "metadata": {},
   "outputs": [],
   "source": []
  }
 ],
 "metadata": {
  "kernelspec": {
   "display_name": "Python 3",
   "language": "python",
   "name": "python3"
  },
  "language_info": {
   "codemirror_mode": {
    "name": "ipython",
    "version": 3
   },
   "file_extension": ".py",
   "mimetype": "text/x-python",
   "name": "python",
   "nbconvert_exporter": "python",
   "pygments_lexer": "ipython3",
   "version": "3.8.8"
  }
 },
 "nbformat": 4,
 "nbformat_minor": 5
}
