{
 "cells": [
  {
   "cell_type": "code",
   "execution_count": null,
   "metadata": {},
   "outputs": [],
   "source": [
    "import pandas as pd\n",
    "import matplotlib.pyplot as plt\n",
    "import seaborn as sns\n",
    "import numpy as np\n",
    "import os\n",
    "import random as rn\n",
    "from sklearn.metrics.pairwise import cosine_similarity\n",
    "import warnings\n",
    "warnings.simplefilter(action='ignore', category=FutureWarning)\n"
   ]
  },
  {
   "cell_type": "code",
   "execution_count": null,
   "metadata": {},
   "outputs": [],
   "source": [
    "path =   # Enter the directory of your project folder\n",
    "PATH = path + \"/Results\"\n",
    "\n",
    "if not os.path.exists(PATH):\n",
    "    os.mkdir(PATH) "
   ]
  },
  {
   "cell_type": "code",
   "execution_count": null,
   "metadata": {},
   "outputs": [],
   "source": [
    "df = pd.read_csv(path+\"//ToyDataset.csv\").drop(['Unnamed: 0'],axis=1)\n",
    "df1 = pd.read_csv(PATH+\"//Data one hot encoded.csv\").drop(['Unnamed: 0'],axis=1)\n",
    "clientID = df.ClientID.unique()\n",
    "\n",
    "df[\"EntryDate\"] = pd.to_datetime(df['EntryDate'])\n",
    "df[\"ExitDate\"] = pd.to_datetime(df['ExitDate'])\n",
    "df = df.sort_values([\"EntryDate\",'ExitDate']).reset_index(drop=True)\n",
    "df1[\"EntryDate\"] = pd.to_datetime(df1['EntryDate'])\n",
    "df1[\"ExitDate\"] = pd.to_datetime(df1['ExitDate'])\n",
    "df1 = df1.sort_values([\"EntryDate\",'ExitDate']).reset_index(drop=True)"
   ]
  },
  {
   "cell_type": "code",
   "execution_count": null,
   "metadata": {},
   "outputs": [],
   "source": [
    "# separating the living situation and the exit destination into categories\n",
    "goal = [10,11]\n",
    "closer = [3,19,20,21,22,23,25,26,28,31]\n",
    "trans = [1,2,4,5,6,12,13,14,15,18,27,29]\n",
    "no_progress = [7,16]\n",
    "hard_to_judge = [8,9,17,24,30,99]"
   ]
  },
  {
   "cell_type": "code",
   "execution_count": null,
   "metadata": {
    "scrolled": true
   },
   "outputs": [],
   "source": [
    "#separating out data for determining transition matrix\n",
    "\n",
    "data = pd.DataFrame(columns=['ClientID',\"start\",'end'])\n",
    "for i in range(len(clientID)):\n",
    "    temp = df[df['ClientID']==clientID[i]].reset_index(drop=True)\n",
    "    for j in range(len(temp)):\n",
    "        if j == 0:\n",
    "            start = 'entry'\n",
    "            end = temp['ProjectType'][j]\n",
    "        elif j == len(temp)-1:\n",
    "            start = temp['ProjectType'][j]\n",
    "            end = 'exit'\n",
    "        else:\n",
    "            start = temp['ProjectType'][j]\n",
    "            end = temp['ProjectType'][j+1]\n",
    "        data = data.append({'ClientID':clientID[i],'start':start,'end':end},ignore_index=True)\n",
    "    "
   ]
  },
  {
   "cell_type": "code",
   "execution_count": null,
   "metadata": {},
   "outputs": [],
   "source": [
    "# calculatin probability\n",
    "edge_prob = pd.DataFrame(columns=[\"edge\",'start','end','numberOfEdges'])\n",
    "edges = pd.Series([tuple([data['start'].iloc[i],data['end'].iloc[i]]) for i in range(len(data))])\n",
    "edges_unique = edges.unique()\n",
    "\n",
    "for i in edges_unique:\n",
    "    edgeNo = len(edges[edges==i])\n",
    "    edge_prob = edge_prob.append({'edge':i,'start':i[0],\"end\":i[1],'numberOfEdges':edgeNo},ignore_index=True)\n",
    "\n",
    "total_prob = edge_prob.groupby(\"start\").sum()['numberOfEdges']\n",
    "edge_prob['total'] = np.nan\n",
    "\n",
    "for i in range(len(edge_prob)):\n",
    "    edge_prob['total'].loc[i] = total_prob.loc[edge_prob['start'].loc[i]]\n",
    "    \n",
    "edge_prob['prob'] = edge_prob['numberOfEdges']/edge_prob['total']"
   ]
  },
  {
   "cell_type": "code",
   "execution_count": null,
   "metadata": {},
   "outputs": [],
   "source": [
    "transition_matrix = pd.DataFrame(index = edge_prob.start.unique(),columns = edge_prob.end.unique())\n",
    "\n",
    "for i in transition_matrix.index:\n",
    "    for j in transition_matrix.columns:\n",
    "        if (i,j) not in list(edge_prob['edge']):\n",
    "            continue\n",
    "        transition_matrix.loc[i][j] = edge_prob[edge_prob['edge']==(i,j)]['prob'].values[0]"
   ]
  },
  {
   "cell_type": "code",
   "execution_count": null,
   "metadata": {},
   "outputs": [],
   "source": [
    "# effective trajectory, exit and entry\n",
    "data = pd.DataFrame(columns=['ClientID','Entry',\"Effective path\",\"Exit\",'Path length'])\n",
    "for i in range(len(clientID)):\n",
    "    temp = df[df['ClientID']==clientID[i]].reset_index(drop=True)\n",
    "    eff_path = temp.ProjectType.unique()\n",
    "    data = data.append({'ClientID':clientID[i],'Entry':temp['LivingSituation'].iloc[0],'Effective path':eff_path,'Exit':temp['Destination'].iloc[-1],'Path length':len(eff_path)},ignore_index=True)\n",
    "    "
   ]
  },
  {
   "cell_type": "code",
   "execution_count": null,
   "metadata": {},
   "outputs": [],
   "source": [
    "degree_info = pd.DataFrame(columns=['projectType','outdegree','indegree'])\n",
    "projectType = transition_matrix.columns.values \n",
    "projectType = np.insert(projectType,0,'entry')\n",
    "\n",
    "for i in range(len(projectType)):\n",
    "    if projectType[i] not in transition_matrix.columns: \n",
    "        indegree = 0\n",
    "    else:\n",
    "        indegree = len(transition_matrix[projectType[i]][transition_matrix[projectType[i]].notna()])\n",
    "    if projectType[i] not in transition_matrix.index:\n",
    "        outdegree = 0\n",
    "    else:\n",
    "        outdegree = len(transition_matrix.loc[projectType[i]][transition_matrix.loc[projectType[i]].notna()])\n",
    "    degree_info = degree_info.append({'projectType':projectType[i],'outdegree':outdegree,'indegree':indegree},ignore_index=True)\n",
    "   "
   ]
  },
  {
   "cell_type": "code",
   "execution_count": null,
   "metadata": {},
   "outputs": [],
   "source": [
    "degree_info"
   ]
  },
  {
   "cell_type": "code",
   "execution_count": null,
   "metadata": {},
   "outputs": [],
   "source": [
    "degree = pd.DataFrame(columns=['ClientID','first_node','last_node','outdegree_first',\"indegree_last\",'exit_type','length'])\n",
    "for i in range(len(data)):\n",
    "    temp = data.iloc[i]\n",
    "    first = temp['Effective path'][0]\n",
    "    last = temp['Effective path'][-1]\n",
    "    if temp['Exit'] in goal:\n",
    "        degree = degree.append({'ClientID':temp.ClientID,'first_node':first,\"last_node\":last,'outdegree_first':degree_info[degree_info['projectType']==first][\"outdegree\"].values[0],'indegree_last':degree_info[degree_info['projectType']==last][\"indegree\"].values[0],'exit_type':'successful','length':temp['Path length']},ignore_index=True)\n",
    "    elif np.isnan(temp['Exit']):\n",
    "        degree = degree.append({'ClientID':temp.ClientID,'first_node':first,\"last_node\":last,'outdegree_first':degree_info[degree_info['projectType']==first][\"outdegree\"].values[0],'indegree_last':degree_info[degree_info['projectType']==last][\"indegree\"].values[0],'exit_type':'abandoned','length':temp['Path length']},ignore_index=True)\n",
    "    else:\n",
    "        degree = degree.append({'ClientID':temp.ClientID,'first_node':first,\"last_node\":last,'outdegree_first':degree_info[degree_info['projectType']==first][\"outdegree\"].values[0],'indegree_last':degree_info[degree_info['projectType']==last][\"indegree\"].values[0],'exit_type':'unsuccessful','length':temp['Path length']},ignore_index=True)\n",
    "    \n",
    "   "
   ]
  },
  {
   "cell_type": "code",
   "execution_count": null,
   "metadata": {},
   "outputs": [],
   "source": [
    "degree_avg = pd.DataFrame(columns=[\"exit_type\",'length','outdegree','indegree'])\n",
    "length_unique = degree.length.unique()\n",
    "for i in range(len(length_unique)):\n",
    "    temp = degree[degree['length']==length_unique[i]]\n",
    "    temp1 = temp[temp['exit_type']=='successful']\n",
    "    temp2 = temp[temp['exit_type']=='unsuccessful']    \n",
    "    temp3 = temp[temp['exit_type']=='abandoned']    \n",
    "    outdegreeMean_s = temp1.outdegree_first.mean()\n",
    "    indegreeMean_s = temp1.indegree_last.mean()\n",
    "    outdegreeMean_u = temp2.outdegree_first.mean()\n",
    "    indegreeMean_u = temp2.indegree_last.mean()\n",
    "    outdegreeMean_a = temp3.outdegree_first.mean()\n",
    "    indegreeMean_a = temp3.indegree_last.mean()\n",
    "    \n",
    "    degree_avg = degree_avg.append({\"exit_type\":'successful','length':length_unique[i],'outdegree':outdegreeMean_s,'indegree':indegreeMean_s},ignore_index=True)\n",
    "    degree_avg = degree_avg.append({\"exit_type\":'unsuccessful','length':length_unique[i],'outdegree':outdegreeMean_u,'indegree':indegreeMean_u},ignore_index=True)\n",
    "    degree_avg = degree_avg.append({\"exit_type\":'abandoned','length':length_unique[i],'outdegree':outdegreeMean_a,'indegree':indegreeMean_a},ignore_index=True)\n",
    "\n",
    "\n",
    "    \n",
    "    \n",
    "    "
   ]
  },
  {
   "cell_type": "code",
   "execution_count": null,
   "metadata": {},
   "outputs": [],
   "source": [
    "degree_avg.groupby('exit_type').mean()"
   ]
  },
  {
   "cell_type": "code",
   "execution_count": null,
   "metadata": {},
   "outputs": [],
   "source": []
  }
 ],
 "metadata": {
  "kernelspec": {
   "display_name": "Python 3",
   "language": "python",
   "name": "python3"
  },
  "language_info": {
   "codemirror_mode": {
    "name": "ipython",
    "version": 3
   },
   "file_extension": ".py",
   "mimetype": "text/x-python",
   "name": "python",
   "nbconvert_exporter": "python",
   "pygments_lexer": "ipython3",
   "version": "3.8.8"
  }
 },
 "nbformat": 4,
 "nbformat_minor": 2
}
