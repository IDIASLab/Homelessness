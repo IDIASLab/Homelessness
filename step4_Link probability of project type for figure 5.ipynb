{
 "cells": [
  {
   "cell_type": "code",
   "execution_count": 2,
   "metadata": {
    "scrolled": true
   },
   "outputs": [],
   "source": [
    "import pandas as pd\n",
    "import matplotlib.pyplot as plt\n",
    "import seaborn as sns\n",
    "import numpy as np\n",
    "import os\n",
    "from sklearn.metrics.pairwise import cosine_similarity\n"
   ]
  },
  {
   "cell_type": "code",
   "execution_count": 3,
   "metadata": {
    "scrolled": true
   },
   "outputs": [],
   "source": [
    "path =   # Enter the directory of your project folder\n",
    "PATH = path + \"/Results\"\n",
    "\n",
    "if not os.path.exists(PATH):\n",
    "    os.mkdir(PATH) "
   ]
  },
  {
   "cell_type": "code",
   "execution_count": 5,
   "metadata": {
    "scrolled": true
   },
   "outputs": [],
   "source": [
    "df = pd.read_csv(PATH+\"//Data one hot encoded.csv\").drop(['Unnamed: 0'],axis=1)\n",
    "\n",
    "clientID = df.ClientID.unique()"
   ]
  },
  {
   "cell_type": "code",
   "execution_count": 6,
   "metadata": {
    "scrolled": true
   },
   "outputs": [],
   "source": [
    "# Preparing the bipartite network from tripartite network\n",
    "A = df[[\"EnrollmentID\",\"ClientID\",\"ProjectType\"]]\n",
    "M = df.drop([\"ProjectType\"],axis = 1)\n",
    "p = np.sort(A['ProjectType'].unique())\n",
    "P = len(p)\n",
    "F = pd.DataFrame()\n",
    "for i in range(P):\n",
    "    S = A[A[\"ProjectType\"]==p[i]]\n",
    "    M_S = M[M['EnrollmentID'].isin(S['EnrollmentID'])].drop(['EnrollmentID', 'ClientID', 'ProjectID', 'EntryDate',\n",
    "        'ExitID','ExitDate','HouseholdID'],axis = 1)\n",
    "    y = pd.DataFrame([p[i]],index=['ProjectType'])\n",
    "    M_S = pd.concat([y,M_S.sum(axis=0)])\n",
    "    F = F.append(M_S.T,ignore_index=True)\n",
    "F = F.set_index(\"ProjectType\",drop=True)\n",
    "    "
   ]
  },
  {
   "cell_type": "code",
   "execution_count": 8,
   "metadata": {
    "scrolled": true
   },
   "outputs": [],
   "source": [
    "# calculating tf_idf\n",
    "tf_idf = pd.DataFrame([],index = F.index, columns = F.columns)\n",
    "for i in range(len(F.index)):\n",
    "    for j in range(len(F.columns)):\n",
    "        temp = F[F.columns[j]]\n",
    "        tf = temp.loc[F.index[i]]\n",
    "        n = len(temp[temp!=0])+1\n",
    "        tf_idf.loc[F.index[i]][F.columns[j]] = tf * max(0,np.log(P/n))\n",
    "\n",
    "tf_idf_norm = pd.DataFrame([],index = tf_idf.index, columns = tf_idf.columns)\n",
    "for i in p:\n",
    "    tf_idf_norm.loc[i] = tf_idf.loc[i]/np.sqrt(np.square(tf_idf).sum(axis=1)).loc[i]\n",
    "tf_idf_norm.to_csv(PATH+\"//Normalized TF_IDF.csv\")\n",
    "\n",
    "# calculating cosine similarity\n",
    "cosine = pd.DataFrame(np.triu(cosine_similarity(tf_idf_norm)),columns = tf_idf_norm.index,index= tf_idf_norm.index)\n",
    "cosine.to_csv(PATH+\"//cosine similarity.csv\")\n",
    "\n",
    "plt.figure(figsize=(10,8))\n",
    "sns.heatmap(cosine,annot=True,cmap=\"YlGnBu\")\n",
    "plt.savefig(PATH+\"//Cosine similarity heat map.png\")\n",
    "plt.close()\n",
    "\n",
    "# calculating the rank\n",
    "r = pd.DataFrame()\n",
    "for i in range(len(p)):\n",
    "    y = pd.DataFrame([p[i]],index=['ProjectType'])\n",
    "    rank = pd.concat([y,pd.Series(cosine.loc[p[i]].sort_values(ascending = False).index[1::])])\n",
    "    r = r.append(rank.T,ignore_index=True)\n",
    "r = r.set_index('ProjectType')\n",
    "r.columns =  range(1,len(r.columns)+1)\n",
    "# print(\"ranking:\\n\",r)\n",
    "r.to_csv(PATH+\"//rank.csv\")\n"
   ]
  },
  {
   "cell_type": "code",
   "execution_count": 9,
   "metadata": {
    "scrolled": false
   },
   "outputs": [],
   "source": [
    "# calculating the link probability\n",
    "\n",
    "r = pd.read_csv(PATH+\"//rank.csv\")\n",
    "r = r.set_index(\"ProjectType\")\n",
    "\n",
    "# computing edge list\n",
    "reentry = pd.DataFrame([],columns=[\"ClientID\",\"Start\",\"End\"])\n",
    "for i in range(len(clientID)):\n",
    "    \n",
    "    temp = df[df['ClientID']==clientID[i]]['ProjectType'].reset_index(drop=True)\n",
    "    for j in range(len(temp)-1):\n",
    "        reentry = reentry.append({\"ClientID\":clientID[i],\"Start\":temp[j],\"End\":temp[j+1]},ignore_index=True)\n",
    "reentry.to_csv(PATH+\"//Edge list.csv\")\n",
    "\n"
   ]
  },
  {
   "cell_type": "code",
   "execution_count": 10,
   "metadata": {
    "scrolled": true
   },
   "outputs": [],
   "source": [
    "# calculating edge probability \n",
    "reentry = pd.read_csv(PATH+\"//Edge list.csv\").drop(['Unnamed: 0'],axis=1)\n",
    "\n",
    "edges_tup = pd.Series([tuple(reentry.iloc[i][1:3]) for i in range(len(reentry))])\n",
    "unique_edges = edges_tup.unique()\n",
    "edge_prob = pd.DataFrame([],columns=['edge','prob'])\n",
    "for i in range(len(unique_edges)):\n",
    "    x = len(edges_tup[edges_tup==unique_edges[i]])/len(edges_tup)\n",
    "    edge_prob = edge_prob.append({\"edge\": unique_edges[i],'prob':x},ignore_index=True)\n",
    "edge_prob.to_csv(PATH+\"//Edge Probability.csv\")\n",
    "\n"
   ]
  },
  {
   "cell_type": "code",
   "execution_count": 13,
   "metadata": {
    "scrolled": true
   },
   "outputs": [],
   "source": [
    "# calculating rank probability\n",
    "edge_prob = pd.read_csv(PATH+\"//Edge Probability.csv\").drop(['Unnamed: 0'],axis=1)\n",
    "rank_prob = pd.DataFrame([],columns=['rank','prob'])\n",
    "\n",
    "for i in range(1,len(r.columns)+1):\n",
    "    prob = 0\n",
    "    edge_tup_rank = pd.Series([(r.index[j],r[str(i)].iloc[j]) for j in range(len(r))])\n",
    "    for k in range(len(edge_tup_rank)):\n",
    "        if len(edge_prob[edge_prob[\"edge\"]==str(edge_tup_rank.iloc[k])]['prob'])==0:\n",
    "            prob = prob + 0\n",
    "        else:\n",
    "            prob = prob + edge_prob[edge_prob[\"edge\"]==str(edge_tup_rank.iloc[k])]['prob'].values[0]\n",
    "    rank_prob = rank_prob.append({\"rank\":i,\"prob\":prob},ignore_index=True)\n",
    "\n"
   ]
  },
  {
   "cell_type": "code",
   "execution_count": 15,
   "metadata": {
    "scrolled": true
   },
   "outputs": [],
   "source": [
    "# plotting the rank probability\n",
    "f = 25\n",
    "plt.figure(figsize=(20,10))\n",
    "plt.plot(rank_prob['rank'],rank_prob['prob'],'o',linewidth=3)\n",
    "plt.xlabel(\"Rank\",fontsize=f)\n",
    "plt.ylabel(\"P(r)\",fontsize=f)\n",
    "plt.xscale('log')\n",
    "plt.yscale('log')\n",
    "plt.xticks(fontsize=f)\n",
    "plt.yticks(fontsize=f)\n",
    "\n",
    "plt.savefig(PATH+\"//P(r)_plot_without_r0_Project_type_log.png\")\n",
    "plt.close()\n"
   ]
  },
  {
   "cell_type": "code",
   "execution_count": null,
   "metadata": {},
   "outputs": [],
   "source": []
  }
 ],
 "metadata": {
  "kernelspec": {
   "display_name": "Python 3",
   "language": "python",
   "name": "python3"
  },
  "language_info": {
   "codemirror_mode": {
    "name": "ipython",
    "version": 3
   },
   "file_extension": ".py",
   "mimetype": "text/x-python",
   "name": "python",
   "nbconvert_exporter": "python",
   "pygments_lexer": "ipython3",
   "version": "3.8.8"
  }
 },
 "nbformat": 4,
 "nbformat_minor": 2
}
