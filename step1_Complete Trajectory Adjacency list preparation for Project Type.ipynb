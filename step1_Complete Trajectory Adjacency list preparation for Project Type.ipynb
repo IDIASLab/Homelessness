{
 "cells": [
  {
   "cell_type": "code",
   "execution_count": 9,
   "metadata": {},
   "outputs": [],
   "source": [
    "import pandas as pd\n",
    "import numpy as np\n",
    "import matplotlib.pyplot as plt\n",
    "import os\n"
   ]
  },
  {
   "cell_type": "code",
   "execution_count": 10,
   "metadata": {},
   "outputs": [],
   "source": [
    "path = r\"C:\\Users\\bashi\\Documents\\Sadia\\US documents\\SUNY albany\\Charalampos Chelmis\\CARES homeless project\\Results\\Wayfinding_firstApproach\\20210527_Final Analysis for ASONAM\\Final Results\\Github\"\n"
   ]
  },
  {
   "cell_type": "code",
   "execution_count": 11,
   "metadata": {},
   "outputs": [],
   "source": [
    "# Dataframe preparation\n",
    "df = pd.read_csv(path+\"\\\\ToyDataset.csv\").drop(['Unnamed: 0'],axis=1)\n",
    "\n",
    "clientID = df[\"ClientID\"].unique()"
   ]
  },
  {
   "cell_type": "code",
   "execution_count": 12,
   "metadata": {},
   "outputs": [],
   "source": [
    "edges = pd.DataFrame([],columns = [\"start\",\"end\"])\n",
    "for i in range(len(clientID)):\n",
    "    temp = df[df[\"ClientID\"]==clientID[i]].reset_index(drop=True)\n",
    "    for k in range(len(temp)-1):\n",
    "        start = temp['ProjectType'].iloc[k]\n",
    "        end = temp['ProjectType'].iloc[k+1]\n",
    "        edges = edges.append({\"start\":start,\"end\":end,\"edge\": (start,end)},ignore_index=True)\n",
    "    \n"
   ]
  },
  {
   "cell_type": "code",
   "execution_count": 13,
   "metadata": {},
   "outputs": [],
   "source": [
    "adj = edges.groupby(['start','end']).count()"
   ]
  },
  {
   "cell_type": "code",
   "execution_count": 14,
   "metadata": {},
   "outputs": [],
   "source": [
    "p = adj.index.get_level_values(0).unique().values\n",
    "adj_list = pd.DataFrame([],columns = ['source',\"target\",\"weight\"])\n",
    "\n",
    "for i in p:\n",
    "    l = []\n",
    "    for k in range(len(adj)):\n",
    "        if adj.iloc[k].name[0] == i:\n",
    "            adj_list = adj_list.append({\"source\":i,\"target\":adj.iloc[k].name[1],\"weight\":adj.iloc[k].values[0]},ignore_index=True)\n",
    "    \n",
    "    "
   ]
  },
  {
   "cell_type": "code",
   "execution_count": 15,
   "metadata": {
    "scrolled": true
   },
   "outputs": [
    {
     "name": "stderr",
     "output_type": "stream",
     "text": [
      "C:\\Users\\bashi\\Anaconda3\\lib\\site-packages\\ipykernel_launcher.py:5: SettingWithCopyWarning: \n",
      "A value is trying to be set on a copy of a slice from a DataFrame.\n",
      "Try using .loc[row_indexer,col_indexer] = value instead\n",
      "\n",
      "See the caveats in the documentation: http://pandas.pydata.org/pandas-docs/stable/indexing.html#indexing-view-versus-copy\n",
      "  \"\"\"\n"
     ]
    }
   ],
   "source": [
    "edge_list = pd.DataFrame()\n",
    "for i in p:\n",
    "    temp = adj_list[adj_list[\"source\"]==i] \n",
    "    total = temp['weight'].sum()\n",
    "    temp['weight'] = temp['weight']/total\n",
    "    edge_list = edge_list.append(temp,ignore_index=True)\n",
    "    \n",
    "edge_list.to_csv(path+\"\\\\Adjacency List ProjectType.csv\")"
   ]
  },
  {
   "cell_type": "code",
   "execution_count": null,
   "metadata": {},
   "outputs": [],
   "source": []
  }
 ],
 "metadata": {
  "kernelspec": {
   "display_name": "Python 3",
   "language": "python",
   "name": "python3"
  },
  "language_info": {
   "codemirror_mode": {
    "name": "ipython",
    "version": 3
   },
   "file_extension": ".py",
   "mimetype": "text/x-python",
   "name": "python",
   "nbconvert_exporter": "python",
   "pygments_lexer": "ipython3",
   "version": "3.7.3"
  }
 },
 "nbformat": 4,
 "nbformat_minor": 2
}
