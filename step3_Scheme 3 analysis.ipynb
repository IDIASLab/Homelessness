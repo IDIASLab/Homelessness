{
 "cells": [
  {
   "cell_type": "code",
   "execution_count": 1,
   "metadata": {},
   "outputs": [],
   "source": [
    "import pandas as pd\n",
    "import matplotlib.pyplot as plt\n",
    "import seaborn as sns\n",
    "import numpy as np\n",
    "import os"
   ]
  },
  {
   "cell_type": "code",
   "execution_count": 2,
   "metadata": {},
   "outputs": [],
   "source": [
    "path =   # Enter the directory of your project folder\n",
    "PATH = path + \"/Results\"\n",
    "\n",
    "if not os.path.exists(PATH):\n",
    "    os.mkdir(PATH) \n"
   ]
  },
  {
   "cell_type": "code",
   "execution_count": 3,
   "metadata": {},
   "outputs": [],
   "source": [
    "df = pd.read_csv(path+\"//ToyDataset.csv\").drop(['Unnamed: 0'],axis=1)\n",
    "clientID = df.ClientID.unique()"
   ]
  },
  {
   "cell_type": "code",
   "execution_count": 4,
   "metadata": {},
   "outputs": [],
   "source": [
    "# separating the living situation and the exit destination into categories\n",
    "goal = [10,11]\n",
    "closer = [3,19,20,21,22,23,25,26,28,31]\n",
    "trans = [1,2,4,5,6,12,13,14,15,18,27,29]\n",
    "no_progress = [7,16]\n",
    "hard_to_judge = [8,9,17,24,30,99]"
   ]
  },
  {
   "cell_type": "code",
   "execution_count": 5,
   "metadata": {},
   "outputs": [],
   "source": [
    "# labelling the data\n",
    "dest = pd.DataFrame([])\n",
    "exit = pd.DataFrame([])\n",
    "clientID = df.ClientID.unique()\n",
    "for i in range(len(clientID)):\n",
    "    temp = df[df['ClientID']==clientID[i]] \n",
    "    if (temp['LivingSituation'].iloc[0] in goal)  :\n",
    "        dest = dest.append({\"ClientID\":clientID[i],\"PathLength\":len(temp),\"entryFrom\":'ultimate goal'},ignore_index=True)\n",
    "    elif temp['LivingSituation'].iloc[0] in closer:\n",
    "        dest = dest.append({\"ClientID\":clientID[i],\"PathLength\":len(temp),\"entryFrom\":'closer to exit'},ignore_index=True)\n",
    "    elif temp['LivingSituation'].iloc[0] in trans:\n",
    "        dest = dest.append({\"ClientID\":clientID[i],\"PathLength\":len(temp),\"entryFrom\":'transitional phase'},ignore_index=True)\n",
    "    elif temp['LivingSituation'].iloc[0] in no_progress:\n",
    "        dest = dest.append({\"ClientID\":clientID[i],\"PathLength\":len(temp),\"entryFrom\":'no progress or worse'},ignore_index=True)\n",
    "    elif temp['LivingSituation'].iloc[0] in hard_to_judge:\n",
    "        dest = dest.append({\"ClientID\":clientID[i],\"PathLength\":len(temp),\"entryFrom\":'hard to judge'},ignore_index=True)\n",
    "    \n",
    "    if temp['Destination'].iloc[-1] in goal:\n",
    "        exit = exit.append({\"ClientID\":clientID[i],'exit':\"ultimate goal\"},ignore_index=True)\n",
    "    elif temp['Destination'].iloc[-1] in closer:\n",
    "            exit = exit.append({\"ClientID\":clientID[i],'exit':\"closer to exit\"},ignore_index=True)\n",
    "    elif temp['Destination'].iloc[-1] in trans:\n",
    "            exit = exit.append({\"ClientID\":clientID[i],'exit':\"transitional phase\"},ignore_index=True)\n",
    "    elif temp['Destination'].iloc[-1] in no_progress:\n",
    "            exit = exit.append({\"ClientID\":clientID[i],'exit':\"no progress or worse\"},ignore_index=True)\n",
    "    elif temp['Destination'].iloc[-1] in hard_to_judge:\n",
    "            exit = exit.append({\"ClientID\":clientID[i],'exit':\"hard to judge\"},ignore_index=True)\n",
    "\n",
    "            \n",
    "data = pd.merge(dest,exit,on = \"ClientID\")\n",
    "data.to_csv(PATH + \"//Scheme 4 labelled data.csv\")"
   ]
  },
  {
   "cell_type": "code",
   "execution_count": 7,
   "metadata": {
    "scrolled": true
   },
   "outputs": [],
   "source": [
    "# determining dropout probability trend\n",
    "\n",
    "data = pd.read_csv(PATH + \"//Scheme 4 labelled data.csv\").drop(\"Unnamed: 0\", axis=1)\n",
    "\n",
    "data_drop = pd.DataFrame()\n",
    "for i in range(len(data)):\n",
    "    for j in np.arange(data.PathLength.min(),data.PathLength.max()+1):\n",
    "        if (j<data['PathLength'].iloc[i]):\n",
    "            data_drop = data_drop.append({\"ClientID\":data['ClientID'].iloc[i], \"PathLength\": data['PathLength'].iloc[i],\"DropOut\":-1,\"step\":j},ignore_index = True)\n",
    "        elif (j==data['PathLength'].iloc[i]):\n",
    "            if (data.iloc[i]['exit'] == \"transitional phase\") or (data.iloc[i]['exit'] == \"no progress or worse\") or (data.iloc[i]['exit'] == \"hard to judge\") or (data.iloc[i]['exit'] == \"closer to exit\"):\n",
    "                data_drop = data_drop.append({\"ClientID\":data['ClientID'].iloc[i], \"PathLength\": data['PathLength'].iloc[i],\"DropOut\":1,\"step\":j},ignore_index = True)\n",
    "            else:\n",
    "                data_drop = data_drop.append({\"ClientID\":data['ClientID'].iloc[i], \"PathLength\": data['PathLength'].iloc[i],\"DropOut\":0,\"step\":j},ignore_index = True)\n",
    "        else:\n",
    "            continue\n",
    "\n",
    "loc = np.sort(data_drop[\"step\"].unique())\n",
    "data_drop_prob = pd.DataFrame()\n",
    "for y in loc:\n",
    "    temp = data_drop[data_drop['step'] == y]\n",
    "    dropout = len(temp[temp[\"DropOut\"]==1])/len(temp)\n",
    "    not_dropoutOrReentry = len(temp[temp[\"DropOut\"]==0])/len(temp) \n",
    "    reentry = len(temp[temp[\"DropOut\"]==-1])/len(temp) \n",
    "    data_drop_prob = data_drop_prob.append({\"Path Position\":y,\"P(dropout)\":dropout,\"P(success)\":not_dropoutOrReentry, \"P(reentry)\":reentry},ignore_index=True)\n",
    "\n",
    "data_drop_prob['Dropout_MA'] = data_drop_prob.iloc[:,0].rolling(window=6).mean()\n",
    "data_drop_prob['Reentry_MA'] = data_drop_prob.iloc[:,1].rolling(window=6).mean()\n",
    "data_drop_prob['Success_MA'] = data_drop_prob.iloc[:,2].rolling(window=6).mean()\n",
    "\n",
    "# data_drop_prob['Dropout_MA'] = data_drop_prob['Dropout_MA'].replace({data_drop_prob['Dropout_MA'].min():10**-4}) \n",
    "# data_drop_prob['Success_MA'] = data_drop_prob['Success_MA'].replace({data_drop_prob['Success_MA'].min():10**-4, \n",
    "#                                                                     data_drop_prob['Success_MA'][18]:10**-4}) \n",
    "\n",
    "plt.figure(figsize = (20,10))\n",
    "# plt.plot(data_drop_prob['Path Position'],data_drop_prob['P(dropout)'],marker = \"x\",linewidth = 2,label='drop-out')\n",
    "# plt.plot(data_drop_prob['Path Position'],data_drop_prob['P(success)'],marker = \"x\",linewidth = 2,label='success')\n",
    "# plt.plot(data_drop_prob['Path Position'],data_drop_prob['P(reentry)'],marker = \"x\",linewidth = 2,label='reentry')\n",
    "plt.plot(data_drop_prob['Path Position'],data_drop_prob['Dropout_MA'],marker = \"x\",linewidth = 2,label='Dropout')\n",
    "plt.plot(data_drop_prob['Path Position'],data_drop_prob['Reentry_MA'],marker = \"x\",linewidth = 2,label='Reentry')\n",
    "plt.plot(data_drop_prob['Path Position'],data_drop_prob['Success_MA'],marker = \"x\",linewidth = 2,label='Success')\n",
    "\n",
    "plt.legend(fontsize=16)\n",
    "# plt.yscale(\"log\")\n",
    "# plt.xscale(\"log\")\n",
    "# plt.xlabel(\"Path Position\",fontsize=16)\n",
    "# plt.ylabel(\"Dropout Probabiliy\",fontsize=16)\n",
    "plt.xticks(fontsize=16)\n",
    "plt.yticks(fontsize=16)\n",
    "plt.title(\"Scheme 4\",fontsize = 16)\n",
    "plt.savefig(PATH+\"/Scheme 4 Drop-out probability with reentry_smoothed.png\")\n",
    "plt.close()"
   ]
  },
  {
   "cell_type": "code",
   "execution_count": 9,
   "metadata": {},
   "outputs": [
    {
     "name": "stderr",
     "output_type": "stream",
     "text": [
      "No handles with labels found to put in legend.\n"
     ]
    }
   ],
   "source": [
    "# calculating cdf\n",
    "\n",
    "def cdf_plot(label,pdf,k):\n",
    "    plt.subplot(4,1,k)\n",
    "    size = 35\n",
    "    min_x = 40\n",
    "    max_x = 0\n",
    "    target = [\"ultimate goal\",\"closer to exit\",\"transitional phase\",\"no progress or worse\",\"hard to judge\"]\n",
    "    index_tup=[(pdf.index.values[i][0],pdf.index.values[i][1]) for i in range(len(pdf.index.values))]    \n",
    "    for i in target:\n",
    "        if (label,i) not in index_tup:\n",
    "            continue\n",
    "        cdf = np.cumsum(pdf.loc[label,i]/pdf.loc[label,i].sum())\n",
    "        cdf[\"ClientID\"].plot(figsize = (25,25),marker=\"o\",label=label+\"-\"+i,linewidth = 4)\n",
    "        if cdf.index.min()<min_x:\n",
    "            min_x = cdf.index.min()\n",
    "        if cdf.index.max()>max_x:\n",
    "            max_x = cdf.index.max()\n",
    "    plt.legend(fontsize=size)\n",
    "    plt.grid()\n",
    "    plt.tight_layout()\n",
    "    plt.xlabel('', fontsize=size)\n",
    "    plt.yticks(fontsize=size)\n",
    "    plt.xticks(np.arange(min_x,max_x,4),fontsize =size)\n",
    "\n",
    "data = pd.read_csv(PATH + \"//Scheme 4 labelled data.csv\").drop(\"Unnamed: 0\", axis=1)\n",
    "pdf = data.groupby(['entryFrom','exit','PathLength']).count()\n",
    "\n",
    "initial = [\"closer to exit\",\"transitional phase\",\"no progress or worse\",\"hard to judge\"]\n",
    "[cdf_plot(initial[i],pdf,i+1) for i in range(len(initial))]\n",
    "plt.savefig(PATH+\"/Scheme 4 Aggregated CDF.png\", bbox_inches = \"tight\")\n",
    "plt.close()"
   ]
  },
  {
   "cell_type": "code",
   "execution_count": null,
   "metadata": {},
   "outputs": [],
   "source": []
  }
 ],
 "metadata": {
  "kernelspec": {
   "display_name": "Python 3",
   "language": "python",
   "name": "python3"
  },
  "language_info": {
   "codemirror_mode": {
    "name": "ipython",
    "version": 3
   },
   "file_extension": ".py",
   "mimetype": "text/x-python",
   "name": "python",
   "nbconvert_exporter": "python",
   "pygments_lexer": "ipython3",
   "version": "3.8.8"
  }
 },
 "nbformat": 4,
 "nbformat_minor": 2
}
