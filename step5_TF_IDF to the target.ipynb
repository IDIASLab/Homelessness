{
 "cells": [
  {
   "cell_type": "code",
   "execution_count": 1,
   "metadata": {},
   "outputs": [],
   "source": [
    "import pandas as pd\n",
    "import matplotlib.pyplot as plt\n",
    "import seaborn as sns\n",
    "import numpy as np\n",
    "import os\n",
    "from sklearn.metrics.pairwise import cosine_similarity\n"
   ]
  },
  {
   "cell_type": "code",
   "execution_count": 2,
   "metadata": {},
   "outputs": [],
   "source": [
    "path =   # Enter the directory of your project folder\n",
    "PATH = path + \"/Results\"\n",
    "\n",
    "if not os.path.exists(PATH):\n",
    "    os.mkdir(PATH) "
   ]
  },
  {
   "cell_type": "code",
   "execution_count": 3,
   "metadata": {},
   "outputs": [],
   "source": [
    "df = pd.read_csv(path+\"//ToyDataset.csv\").drop(['Unnamed: 0'],axis=1)\n",
    "df1 = pd.read_csv(PATH+\"//Data one hot encoded.csv\").drop(['Unnamed: 0'],axis=1)\n",
    "clientID = df.ClientID.unique()"
   ]
  },
  {
   "cell_type": "code",
   "execution_count": 4,
   "metadata": {},
   "outputs": [],
   "source": [
    "# separating the living situation and the exit destination into categories\n",
    "goal = [10,11]\n",
    "closer = [3,19,20,21,22,23,25,26,28,31]\n",
    "trans = [1,2,4,5,6,12,13,14,15,18,27,29]\n",
    "no_progress = [7,16]\n",
    "hard_to_judge = [8,9,17,24,30,99]"
   ]
  },
  {
   "cell_type": "code",
   "execution_count": 5,
   "metadata": {
    "scrolled": true
   },
   "outputs": [],
   "source": [
    "# preparing the data for target\n",
    "T = pd.DataFrame()\n",
    "t = [\"ultimate goal\",\"closer to exit\",\"transitional phase\",\"no progress or worse\",\"hard to judge\"]\n",
    "for i in [goal,closer,trans,no_progress,hard_to_judge]:\n",
    "    \n",
    "    temp = df1.loc[df[df['Destination'].isin(i)].index] \n",
    "    temp = temp.drop(['EnrollmentID', 'ClientID', 'ProjectID', 'EntryDate', \n",
    "                'ProjectType', 'ExitID', 'ExitDate', 'HouseholdID'],axis = 1)\n",
    "    if i == goal:\n",
    "        y = pd.DataFrame([\"ultimate goal\"],index=['target'])\n",
    "    elif i == closer:\n",
    "        y = pd.DataFrame([\"closer to exit\"],index=['target'])\n",
    "    elif i == trans:\n",
    "        y = pd.DataFrame([\"transitional phase\"],index=['target'])\n",
    "    elif i == no_progress:\n",
    "        y = pd.DataFrame([\"no progress or worse\"],index=['target'])\n",
    "    elif i == hard_to_judge:\n",
    "        y = pd.DataFrame([\"hard to judge\"],index=['target'])\n",
    "        \n",
    "    x = pd.concat([y,temp.sum(axis=0)])\n",
    "    T = T.append(x.T,ignore_index=True)\n",
    "    \n",
    "# preparing the data for project type\n",
    "A = df1[[\"EnrollmentID\",\"ClientID\",\"ProjectType\"]]\n",
    "M = df1.drop([\"ProjectType\"],axis = 1)\n",
    "p = np.sort(A['ProjectType'].unique())\n",
    "P = len(p)\n",
    "F = pd.DataFrame()\n",
    "for i in range(P):\n",
    "    S = A[A[\"ProjectType\"]==p[i]]\n",
    "    M_S = M[M['EnrollmentID'].isin(S['EnrollmentID'])].drop(['EnrollmentID', 'ClientID', 'ProjectID', 'EntryDate',\n",
    "        'ExitID','ExitDate','HouseholdID'],axis = 1)\n",
    "    y = pd.DataFrame([p[i]],index=['target'])\n",
    "    M_S = pd.concat([y,M_S.sum(axis=0)])\n",
    "    F = F.append(M_S.T,ignore_index=True)\n",
    "\n",
    "F = F.append(T,ignore_index = True)\n",
    "F = F.set_index('target')"
   ]
  },
  {
   "cell_type": "code",
   "execution_count": 6,
   "metadata": {},
   "outputs": [],
   "source": [
    "# calculating tf_idf for project type\n",
    "tf_idf = pd.DataFrame([],index = F.index, columns = F.columns)\n",
    "for i in range(len(F.index)):\n",
    "    for j in range(len(F.columns)):\n",
    "        temp = F[F.columns[j]]\n",
    "        tf = temp.loc[F.index[i]]\n",
    "        n = len(temp[temp!=0])+1\n",
    "        tf_idf.loc[F.index[i]][F.columns[j]] = tf * max(0,np.log(P/n))\n",
    "\n",
    "tf_idf_norm = pd.DataFrame([],index = tf_idf.index, columns = tf_idf.columns)\n",
    "total = list(p) + t  \n",
    "for i in  total:\n",
    "    if np.sqrt(np.square(tf_idf).sum(axis=1)).loc[i] == 0:\n",
    "            tf_idf_norm.loc[i] = 0\n",
    "    else:\n",
    "        tf_idf_norm.loc[i] = tf_idf.loc[i]/np.sqrt(np.square(tf_idf).sum(axis=1)).loc[i]\n",
    "    \n",
    "tf_idf_norm.to_csv(PATH+\"//Normalized TF_IDF for project type and target.csv\")\n",
    "\n",
    "tf_idf_norm = pd.read_csv(PATH+\"//Normalized TF_IDF for project type and target.csv\")\n",
    "tf_idf_norm = tf_idf_norm.set_index(\"target\",drop=True)"
   ]
  },
  {
   "cell_type": "code",
   "execution_count": 7,
   "metadata": {},
   "outputs": [],
   "source": [
    "# separating out the clients that reached ultimate goal \n",
    "data,data1 = pd.DataFrame(),pd.DataFrame()\n",
    "for i in range(len(clientID)):\n",
    "    temp = df[df[\"ClientID\"]==clientID[i]]\n",
    "    if temp['Destination'].iloc[-1] in goal:\n",
    "        temp1 = df1.loc[temp.index]\n",
    "        data = data.append(temp,ignore_index=True)\n",
    "        data1 = data1.append(temp1,ignore_index=True)\n"
   ]
  },
  {
   "cell_type": "code",
   "execution_count": 9,
   "metadata": {},
   "outputs": [],
   "source": [
    "# recording effective pathway \n",
    "client = data1.ClientID.unique()\n",
    "pathway = pd.DataFrame()\n",
    "maxima = 0\n",
    "for i in range(len(client)):\n",
    "    temp = data1[data1['ClientID']==client[i]]\n",
    "    pathway = pathway.append({\"ClientID\":client[i],\"path\":list(temp['ProjectType'].unique())},ignore_index=True)\n",
    "    if len(temp['ProjectType'].unique())>maxima:\n",
    "        maxima = len(temp['ProjectType'].unique())\n",
    "\n",
    "# finding the cosine similarity\n",
    "n = maxima\n",
    "cosine_avg = pd.DataFrame(columns = ['step']+[b for b in range(n)],index=range(n))\n",
    "for k in range(2,n+1):\n",
    "    cosine = pd.DataFrame(index = range(len(client)),columns=[a for a in range(k)])\n",
    "    for i in range(len(client)):\n",
    "        temp = pathway[pathway['ClientID']==client[i]]['path'].values[0]\n",
    "        if len(temp)!= k:\n",
    "            continue\n",
    "        if len(temp) == 1:\n",
    "            continue\n",
    "        for j in range(len(temp)):\n",
    "            cos = pd.DataFrame(tf_idf_norm.loc['ultimate goal'])    \n",
    "            x = pd.DataFrame(tf_idf_norm.loc[str(temp[j])])\n",
    "            cos = cos.T.append(x.T,ignore_index=True)\n",
    "            cosine[k-j-1].iloc[i] = cosine_similarity(cos)[0][1]\n",
    "    cosine = cosine.dropna(how=\"all\")\n",
    "    cosine_avg[\"step\"].loc[k-1] = k\n",
    "    for z in range(k):\n",
    "        cosine_avg[z].iloc[k-1] = cosine.mean()[z]  \n",
    "    \n",
    "cosine_avg = cosine_avg.set_index('step')\n",
    "cosine_avg.columns = [k for k in range(1,n+1)]\n",
    "cosine_avg = cosine_avg.dropna(how='all')\n",
    "\n",
    "# plotting the similarity\n",
    "plt.figure(figsize=(20,10))\n",
    "for i in cosine_avg.index:\n",
    "    plt.plot(cosine_avg.loc[i],'o-',linewidth=3,label=i)\n",
    "    plt.axis([4.25,0.75,-0.01,0.13])\n",
    "    plt.legend(fontsize=25)\n",
    "    plt.xticks(fontsize=25)\n",
    "    plt.yticks(fontsize=25)\n",
    "\n",
    "plt.savefig(PATH+\"//TF-IDF similarity to the target plot.png\")\n",
    "plt.close()\n",
    "\n"
   ]
  },
  {
   "cell_type": "code",
   "execution_count": null,
   "metadata": {},
   "outputs": [],
   "source": []
  }
 ],
 "metadata": {
  "kernelspec": {
   "display_name": "Python 3",
   "language": "python",
   "name": "python3"
  },
  "language_info": {
   "codemirror_mode": {
    "name": "ipython",
    "version": 3
   },
   "file_extension": ".py",
   "mimetype": "text/x-python",
   "name": "python",
   "nbconvert_exporter": "python",
   "pygments_lexer": "ipython3",
   "version": "3.8.8"
  }
 },
 "nbformat": 4,
 "nbformat_minor": 2
}
