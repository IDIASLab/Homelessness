{
 "cells": [
  {
   "cell_type": "code",
   "execution_count": 1,
   "metadata": {},
   "outputs": [],
   "source": [
    "import pandas as pd\n",
    "import numpy as np\n",
    "import random as rn\n",
    "import datetime as dt"
   ]
  },
  {
   "cell_type": "code",
   "execution_count": 2,
   "metadata": {},
   "outputs": [],
   "source": [
    "path = r\"C:\\Users\\bashi\\Documents\\Sadia\\US documents\\SUNY albany\\Charalampos Chelmis\\CARES homeless project\\Results\\Wayfinding_firstApproach\\20210527_Final Analysis for ASONAM\\Final Results\""
   ]
  },
  {
   "cell_type": "code",
   "execution_count": 3,
   "metadata": {},
   "outputs": [],
   "source": [
    "df = pd.read_csv(path+\"\\\\20210620_Data with feature with 60% or more missing data removed.csv\").drop(['Unnamed: 0'],axis=1)\n"
   ]
  },
  {
   "cell_type": "code",
   "execution_count": 4,
   "metadata": {},
   "outputs": [
    {
     "data": {
      "text/plain": [
       "[datetime.date(2013, 10, 11),\n",
       " datetime.date(2013, 10, 18),\n",
       " datetime.date(2013, 10, 19),\n",
       " datetime.date(2013, 11, 25),\n",
       " datetime.date(2013, 11, 25),\n",
       " datetime.date(2013, 12, 11),\n",
       " datetime.date(2013, 12, 15),\n",
       " datetime.date(2013, 12, 29),\n",
       " datetime.date(2014, 1, 3),\n",
       " datetime.date(2014, 1, 21),\n",
       " datetime.date(2014, 3, 5)]"
      ]
     },
     "execution_count": 4,
     "metadata": {},
     "output_type": "execute_result"
    }
   ],
   "source": [
    "def random_date(start,l):\n",
    "    current = start\n",
    "    curr = []\n",
    "    while l >= 0:\n",
    "        current = current + dt.timedelta(days=rn.randrange(60))\n",
    "        curr =  curr + [current]\n",
    "        l-=1\n",
    "    return curr\n",
    "date = random_date(dt.date(2013, 9, 20),10)\n",
    "date"
   ]
  },
  {
   "cell_type": "code",
   "execution_count": 5,
   "metadata": {
    "scrolled": true
   },
   "outputs": [
    {
     "data": {
      "text/plain": [
       "Index(['EnrollmentID', 'ClientID', 'ProjectID', 'EntryDate', 'ProjectType',\n",
       "       'ExitID', 'ExitDate', 'AmIndAKNative', 'Asian', 'BlackAfAmerican',\n",
       "       'NativeHIOtherPacific', 'White', 'Ethnicity', 'Gender', 'VeteranStatus',\n",
       "       'HouseholdID', 'RelationshipToHoH', 'LivingSituation', 'LengthOfStay',\n",
       "       'DisablingCondition', 'TimesHomelessPastThreeYears', 'Unemployment',\n",
       "       'SSI', 'SSDI', 'VADisabilityService', 'VADisabilityNonService',\n",
       "       'PrivateDisability', 'WorkersComp', 'TANF', 'GA', 'SocSecRetirement',\n",
       "       'Pension', 'ChildSupport', 'Alimony', 'OtherIncomeSource',\n",
       "       'BenefitsFromAnySource', 'SNAP', 'WIC', 'TANFChildCare',\n",
       "       'TANFTransportation', 'OtherTANF', 'OtherBenefitsSource',\n",
       "       'Benefit total', 'Mental health response', 'Substance abuse response',\n",
       "       'Chronic disability response', 'Development disability response',\n",
       "       'HIV response', 'Physical disability response',\n",
       "       'DomesticViolenceVictim', 'Destination', 'memberNo', 'childrenNo'],\n",
       "      dtype='object')"
      ]
     },
     "execution_count": 5,
     "metadata": {},
     "output_type": "execute_result"
    }
   ],
   "source": [
    "df.columns"
   ]
  },
  {
   "cell_type": "code",
   "execution_count": 6,
   "metadata": {},
   "outputs": [],
   "source": [
    "seq_1 = range(1,10)\n",
    "feature_1 = ['AmIndAKNative', 'Asian', 'BlackAfAmerican','NativeHIOtherPacific', 'White','Unemployment','SSI', 'SSDI', 'VADisabilityService', 'VADisabilityNonService',\n",
    "             'PrivateDisability', 'WorkersComp', 'TANF', 'GA', 'SocSecRetirement','BenefitsFromAnySource',\n",
    "             'Pension', 'ChildSupport', 'Alimony', 'OtherIncomeSource', 'SNAP', 'WIC', 'TANFChildCare',\n",
    "           'TANFTransportation', 'OtherTANF', 'OtherBenefitsSource']\n",
    "seq_feat_1 = [0,1,99]\n",
    "seq_ethnic = [0,1,8,9,99]\n",
    "seq_gender = [0,1,2,3,4,8,9,99]\n",
    "feature_2 = ['VeteranStatus','Mental health response', 'Substance abuse response',\n",
    "           'Chronic disability response', 'Development disability response',\n",
    "           'HIV response', 'Physical disability response',\n",
    "           'DomesticViolenceVictim']\n",
    "seq_feat_2 = [0,1,8,9,99]\n",
    "feature_3 = ['LivingSituation','Destination']\n",
    "seq_feat_3 = [1,2,3,4,5,6,7,8,9,12,13,14,15,16,18,19,20,21,22,23,24,25,26,27,99]\n",
    "seq_los = [2,3,4,5,8,9,10,11,99]\n",
    "seq_thpty = [1,2,3,4,8,9,99]\n",
    "seq_dis = [0,1,2,3,8,9,99]\n"
   ]
  },
  {
   "cell_type": "code",
   "execution_count": 7,
   "metadata": {},
   "outputs": [],
   "source": [
    "toy = pd.DataFrame(index = range(20),columns=df.columns)\n",
    "toy['EnrollmentID'] = [1,1,1,1,1,1,2,2,2,2,3,3,4,4,5,5,5,6,6,6]\n",
    "toy['ClientID'] = [1,1,1,2,2,2,3,3,3,3,4,4,5,5,6,6,7,8,8,8]\n",
    "toy[\"HouseholdID\"] = [1,1,1,1,1,1,2,2,2,2,3,3,4,4,5,5,5,6,6,6]\n",
    "toy[\"ExitID\"] = [1,1,1,1,1,1,2,2,2,2,3,3,4,4,5,5,5,6,6,6]\n",
    "toy['memberNo'] = [2,2,2,2,2,2,1,1,1,1,1,1,1,1,2,2,2,1,1,1]\n",
    "toy['childrenNo'] = [1,1,1,1,1,1,0,0,0,0,0,0,0,0,0,0,0,0,0,0]\n",
    "toy['RelationshipToHoH'] = [1,1,1,2,2,2,1,1,1,1,1,1,1,1,3,1,1,1,1,1,]\n",
    "toy['Ethnicity'] = [rn.choice(seq_ethnic) for i in range(len(toy))]\n",
    "toy['Gender'] = [rn.choice(seq_gender) for i in range(len(toy))]\n",
    "toy['LengthOfStay'] = [rn.choice(seq_los) for i in range(len(toy))]\n",
    "toy['TimesHomelessPastThreeYears'] = [rn.choice(seq_thpty) for i in range(len(toy))]\n",
    "toy['DisablingCondition'] = [rn.choice(seq_dis) for i in range(len(toy))]\n",
    "toy['Benefit total'] = np.random.randint(0 ,10000,20)\n",
    "\n",
    "for col in ['ProjectID', 'ProjectType']:\n",
    "    toy[col] = [rn.choice(seq_1) for i in range(len(toy))]\n",
    "for col in feature_1:\n",
    "    toy[col] = [rn.choice(seq_feat_1) for i in range(len(toy))]\n",
    "for col in feature_2:\n",
    "    toy[col] = [rn.choice(seq_feat_2) for i in range(len(toy))]\n",
    "for col in feature_3:\n",
    "    toy[col] = [rn.choice(seq_feat_3) for i in range(len(toy))]\n"
   ]
  },
  {
   "cell_type": "code",
   "execution_count": 8,
   "metadata": {
    "scrolled": false
   },
   "outputs": [
    {
     "name": "stdout",
     "output_type": "stream",
     "text": [
      "0\n",
      "2013-09-20 2013-09-22\n",
      "1\n",
      "2013-11-04 2013-12-30\n",
      "2\n",
      "2014-01-25 2014-03-13\n"
     ]
    },
    {
     "name": "stderr",
     "output_type": "stream",
     "text": [
      "C:\\Users\\bashi\\Anaconda3\\lib\\site-packages\\ipykernel_launcher.py:12: SettingWithCopyWarning: \n",
      "A value is trying to be set on a copy of a slice from a DataFrame\n",
      "\n",
      "See the caveats in the documentation: http://pandas.pydata.org/pandas-docs/stable/indexing.html#indexing-view-versus-copy\n",
      "  if sys.path[0] == '':\n",
      "C:\\Users\\bashi\\Anaconda3\\lib\\site-packages\\IPython\\core\\interactiveshell.py:3325: SettingWithCopyWarning: \n",
      "A value is trying to be set on a copy of a slice from a DataFrame\n",
      "\n",
      "See the caveats in the documentation: http://pandas.pydata.org/pandas-docs/stable/indexing.html#indexing-view-versus-copy\n",
      "  exec(code_obj, self.user_global_ns, self.user_ns)\n",
      "C:\\Users\\bashi\\Anaconda3\\lib\\site-packages\\ipykernel_launcher.py:14: SettingWithCopyWarning: \n",
      "A value is trying to be set on a copy of a slice from a DataFrame\n",
      "\n",
      "See the caveats in the documentation: http://pandas.pydata.org/pandas-docs/stable/indexing.html#indexing-view-versus-copy\n",
      "  \n",
      "C:\\Users\\bashi\\Anaconda3\\lib\\site-packages\\ipykernel_launcher.py:10: SettingWithCopyWarning: \n",
      "A value is trying to be set on a copy of a slice from a DataFrame\n",
      "\n",
      "See the caveats in the documentation: http://pandas.pydata.org/pandas-docs/stable/indexing.html#indexing-view-versus-copy\n",
      "  # Remove the CWD from sys.path while we load stuff.\n",
      "C:\\Users\\bashi\\Anaconda3\\lib\\site-packages\\pandas\\core\\indexing.py:190: SettingWithCopyWarning: \n",
      "A value is trying to be set on a copy of a slice from a DataFrame\n",
      "\n",
      "See the caveats in the documentation: http://pandas.pydata.org/pandas-docs/stable/indexing.html#indexing-view-versus-copy\n",
      "  self._setitem_with_indexer(indexer, value)\n"
     ]
    },
    {
     "name": "stdout",
     "output_type": "stream",
     "text": [
      "0\n",
      "2013-09-20 2013-10-01\n",
      "1\n",
      "2013-11-12 2013-12-29\n",
      "2\n",
      "2014-01-06 2014-01-31\n",
      "0\n",
      "2013-09-20 2013-10-12\n",
      "1\n",
      "2013-11-18 2013-12-03\n",
      "2\n",
      "2014-01-12 2014-02-22\n",
      "3\n",
      "2014-03-09 2014-03-27\n",
      "0\n",
      "2013-09-20 2013-10-10\n",
      "1\n",
      "2013-11-13 2013-12-15\n",
      "0\n",
      "2013-09-20 2013-10-21\n",
      "1\n",
      "2013-11-03 2013-12-07\n",
      "0\n",
      "2013-09-20 2013-09-20\n",
      "1\n",
      "2013-10-17 2013-10-22\n",
      "0\n",
      "2013-09-20 2013-10-29\n",
      "0\n",
      "2013-09-20 2013-10-25\n",
      "1\n",
      "2013-10-25 2013-11-08\n",
      "2\n",
      "2013-12-05 2013-12-28\n"
     ]
    }
   ],
   "source": [
    "clientID = toy['ClientID'].unique()\n",
    "for i in range(len(clientID)):\n",
    "    temp = toy[toy[\"ClientID\"]==clientID[i]]\n",
    "    entry,exit = [0 for j in range(len(temp))],[0 for j in range(len(temp))]\n",
    "    entry[0] = dt.date(2013, 9, 20)\n",
    "    for k in range(len(temp)):\n",
    "        print(k)\n",
    "        if k>0:\n",
    "            entry[k] = random_date(exit[k-1],0)[0]\n",
    "            temp['EntryDate'][temp.index[k]] = entry[k]\n",
    "        else:\n",
    "            temp['EntryDate'][temp.index[k]] = random_date(entry[k],0)[0]\n",
    "        exit[k] = random_date(entry[k],0)[0]\n",
    "        temp['ExitDate'][temp.index[k]] = exit[k]\n",
    "        print(entry[k],exit[k])\n",
    "             \n",
    "        \n",
    "    \n",
    "    \n",
    "    toy[\"EntryDate\"].loc[temp.index] = temp['EntryDate']    \n",
    "    toy[\"ExitDate\"].loc[temp.index] = temp['ExitDate']"
   ]
  },
  {
   "cell_type": "code",
   "execution_count": 13,
   "metadata": {},
   "outputs": [],
   "source": [
    "toy.to_csv(path+'\\\\20210922_toyDataset.csv')"
   ]
  },
  {
   "cell_type": "code",
   "execution_count": 14,
   "metadata": {},
   "outputs": [
    {
     "data": {
      "text/plain": [
       "(53,)"
      ]
     },
     "execution_count": 14,
     "metadata": {},
     "output_type": "execute_result"
    }
   ],
   "source": [
    "toy.columns.shape"
   ]
  },
  {
   "cell_type": "code",
   "execution_count": 15,
   "metadata": {},
   "outputs": [
    {
     "data": {
      "text/plain": [
       "(53,)"
      ]
     },
     "execution_count": 15,
     "metadata": {},
     "output_type": "execute_result"
    }
   ],
   "source": [
    "df.columns.shape"
   ]
  },
  {
   "cell_type": "code",
   "execution_count": 16,
   "metadata": {},
   "outputs": [
    {
     "data": {
      "text/plain": [
       "Index(['EnrollmentID', 'ClientID', 'ProjectID', 'EntryDate', 'ProjectType',\n",
       "       'ExitID', 'ExitDate', 'AmIndAKNative', 'Asian', 'BlackAfAmerican',\n",
       "       'NativeHIOtherPacific', 'White', 'Ethnicity', 'Gender', 'VeteranStatus',\n",
       "       'HouseholdID', 'RelationshipToHoH', 'LivingSituation', 'LengthOfStay',\n",
       "       'DisablingCondition', 'TimesHomelessPastThreeYears', 'Unemployment',\n",
       "       'SSI', 'SSDI', 'VADisabilityService', 'VADisabilityNonService',\n",
       "       'PrivateDisability', 'WorkersComp', 'TANF', 'GA', 'SocSecRetirement',\n",
       "       'Pension', 'ChildSupport', 'Alimony', 'OtherIncomeSource',\n",
       "       'BenefitsFromAnySource', 'SNAP', 'WIC', 'TANFChildCare',\n",
       "       'TANFTransportation', 'OtherTANF', 'OtherBenefitsSource',\n",
       "       'Benefit total', 'Mental health response', 'Substance abuse response',\n",
       "       'Chronic disability response', 'Development disability response',\n",
       "       'HIV response', 'Physical disability response',\n",
       "       'DomesticViolenceVictim', 'Destination', 'memberNo', 'childrenNo'],\n",
       "      dtype='object')"
      ]
     },
     "execution_count": 16,
     "metadata": {},
     "output_type": "execute_result"
    }
   ],
   "source": [
    "toy.columns"
   ]
  },
  {
   "cell_type": "code",
   "execution_count": null,
   "metadata": {},
   "outputs": [],
   "source": []
  }
 ],
 "metadata": {
  "kernelspec": {
   "display_name": "Python 3",
   "language": "python",
   "name": "python3"
  },
  "language_info": {
   "codemirror_mode": {
    "name": "ipython",
    "version": 3
   },
   "file_extension": ".py",
   "mimetype": "text/x-python",
   "name": "python",
   "nbconvert_exporter": "python",
   "pygments_lexer": "ipython3",
   "version": "3.7.3"
  }
 },
 "nbformat": 4,
 "nbformat_minor": 2
}
