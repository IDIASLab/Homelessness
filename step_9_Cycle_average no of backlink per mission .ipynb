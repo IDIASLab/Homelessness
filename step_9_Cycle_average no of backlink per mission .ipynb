{
 "cells": [
  {
   "cell_type": "code",
   "execution_count": null,
   "metadata": {},
   "outputs": [],
   "source": [
    "import pandas as pd\n",
    "import matplotlib.pyplot as plt\n",
    "import seaborn as sns\n",
    "import numpy as np\n",
    "import os\n",
    "import random as rn\n",
    "from sklearn.metrics.pairwise import cosine_similarity\n",
    "import warnings\n",
    "warnings.simplefilter(action='ignore', category=FutureWarning)\n"
   ]
  },
  {
   "cell_type": "code",
   "execution_count": null,
   "metadata": {},
   "outputs": [],
   "source": [
    "path =   # Enter the directory of your project folder\n",
    "PATH = path + \"/Results\"\n",
    "\n",
    "if not os.path.exists(PATH):\n",
    "    os.mkdir(PATH) "
   ]
  },
  {
   "cell_type": "code",
   "execution_count": null,
   "metadata": {},
   "outputs": [],
   "source": [
    "df = pd.read_csv(path+\"//ToyDataset.csv\").drop(['Unnamed: 0'],axis=1)\n",
    "df1 = pd.read_csv(PATH+\"//Data one hot encoded.csv\").drop(['Unnamed: 0'],axis=1)\n",
    "clientID = df.ClientID.unique()\n",
    "\n",
    "df[\"EntryDate\"] = pd.to_datetime(df['EntryDate'])\n",
    "df[\"ExitDate\"] = pd.to_datetime(df['ExitDate'])\n",
    "df = df.sort_values([\"EntryDate\",'ExitDate']).reset_index(drop=True)\n",
    "df1[\"EntryDate\"] = pd.to_datetime(df1['EntryDate'])\n",
    "df1[\"ExitDate\"] = pd.to_datetime(df1['ExitDate'])\n",
    "df1 = df1.sort_values([\"EntryDate\",'ExitDate']).reset_index(drop=True)"
   ]
  },
  {
   "cell_type": "code",
   "execution_count": null,
   "metadata": {
    "scrolled": true
   },
   "outputs": [],
   "source": [
    "goal = [10,11]\n",
    "cycle_pd = pd.DataFrame(columns = ['ClientID','length','projectType','target'])\n",
    "index = {}\n",
    "for i in range(len(clientID)):\n",
    "    closed = []\n",
    "    temp = df[df['ClientID']==clientID[i]].reset_index(drop=True)\n",
    "    for j in range(len(temp)):\n",
    "        if temp['ProjectType'][j] not in closed:\n",
    "            closed.append(temp['ProjectType'][j])\n",
    "            temp1 = temp[temp['ProjectType']==temp['ProjectType'][j]]\n",
    "            if len(temp1)>2:\n",
    "                for k in range(1,len(temp1)):\n",
    "                    length = temp1.index[k]-temp1.index[k-1]\n",
    "                    if temp.Destination.iloc[-1] in goal: \n",
    "                        cycle_pd = cycle_pd.append({'ClientID':clientID[i],'length':length,'projectType':temp['ProjectType'][j],'target':'successful'},ignore_index=True)\n",
    "                    elif np.isnan(temp.Destination.iloc[-1]):\n",
    "                        cycle_pd = cycle_pd.append({'ClientID':clientID[i],'length':length,'projectType':temp['ProjectType'][j],'target':'abandoned'},ignore_index=True)\n",
    "                    else: \n",
    "                        cycle_pd = cycle_pd.append({'ClientID':clientID[i],'length':length,'projectType':temp['ProjectType'][j],'target':'unsuccessful'},ignore_index=True)\n",
    "\n",
    "\n",
    "            elif len(temp1)==2:\n",
    "                length = temp1.index[-1]-temp1.index[0]\n",
    "                if temp.Destination.iloc[-1] in goal: \n",
    "                    cycle_pd = cycle_pd.append({'ClientID':clientID[i],'length':length,'projectType':temp['ProjectType'][j],'target':'successful'},ignore_index=True)\n",
    "                elif np.isnan(temp.Destination.iloc[-1]):\n",
    "                    cycle_pd = cycle_pd.append({'ClientID':clientID[i],'length':length,'projectType':temp['ProjectType'][j],'target':'abandoned'},ignore_index=True)                    \n",
    "                else: \n",
    "                    cycle_pd = cycle_pd.append({'ClientID':clientID[i],'length':length,'projectType':temp['ProjectType'][j],'target':'unsuccessful'},ignore_index=True)\n",
    "\n"
   ]
  },
  {
   "cell_type": "code",
   "execution_count": null,
   "metadata": {},
   "outputs": [],
   "source": [
    "cycle_goal = pd.DataFrame(columns=['ClientID',\"Target\",\"CycleNumber\"])\n",
    "for i in range(len(clientID)):\n",
    "    temp = df[df['ClientID']==clientID[i]]\n",
    "    \n",
    "    if temp['Destination'].iloc[-1] in goal:\n",
    "        if clientID[i] in np.array(cycle_pd['ClientID']):\n",
    "            cycle_goal = cycle_goal.append({\"ClientID\":clientID[i],\"Target\":'successful',\"cycle\":'yes',\"CycleNumber\":len(cycle_pd[cycle_pd[\"ClientID\"]==clientID[i]])},ignore_index=True)\n",
    "        else:\n",
    "            cycle_goal = cycle_goal.append({\"ClientID\":clientID[i],\"Target\":'successful',\"cycle\":'no',\"CycleNumber\":\"None\"},ignore_index=True)\n",
    "    \n",
    "    elif np.isnan(temp['Destination'].iloc[-1]):\n",
    "        if clientID[i] in np.array(cycle_pd['ClientID']):\n",
    "            cycle_goal = cycle_goal.append({\"ClientID\":clientID[i],\"Target\":'abandoned',\"cycle\":'yes',\"CycleNumber\":len(cycle_pd[cycle_pd[\"ClientID\"]==clientID[i]])},ignore_index=True)\n",
    "        else:\n",
    "            cycle_goal = cycle_goal.append({\"ClientID\":clientID[i],\"Target\":'abandoned',\"cycle\":'no',\"CycleNumber\":\"None\"},ignore_index=True)\n",
    "\n",
    "    else:\n",
    "        if clientID[i] in np.array(cycle_pd['ClientID']):\n",
    "            cycle_goal = cycle_goal.append({\"ClientID\":clientID[i],\"Target\":'unsuccessful',\"cycle\":'yes',\"CycleNumber\":len(cycle_pd[cycle_pd[\"ClientID\"]==clientID[i]])},ignore_index=True)\n",
    "        else:\n",
    "            cycle_goal = cycle_goal.append({\"ClientID\":clientID[i],\"Target\":'unsuccessful',\"cycle\":'no',\"CycleNumber\":\"None\"},ignore_index=True)\n",
    "\n"
   ]
  },
  {
   "cell_type": "code",
   "execution_count": null,
   "metadata": {},
   "outputs": [],
   "source": [
    "target_unique = cycle_goal.Target.unique()\n",
    "for t in target_unique:\n",
    "    temp = cycle_goal[cycle_goal['Target']==t]\n",
    "    average = temp[temp['CycleNumber']!='None']['CycleNumber'].mean()\n",
    "    print(t,average)\n",
    "    "
   ]
  },
  {
   "cell_type": "code",
   "execution_count": null,
   "metadata": {},
   "outputs": [],
   "source": [
    "target_unique = cycle_pd.target.unique()\n",
    "for t in target_unique:\n",
    "    temp = cycle_pd[cycle_pd['target']==t]\n",
    "    average = temp['length'].mean()\n",
    "    print(t,average)\n",
    "    "
   ]
  },
  {
   "cell_type": "code",
   "execution_count": null,
   "metadata": {},
   "outputs": [],
   "source": [
    "cycle_length = pd.DataFrame(columns = ['ClientID','mean_length','target'])\n",
    "clientID = cycle_pd.ClientID.unique()\n",
    "\n",
    "for i in range(len(clientID)):\n",
    "    temp = cycle_pd[cycle_pd['ClientID']==clientID[i]]\n",
    "    target = temp['target'].iloc[-1]\n",
    "    mean_length = temp['length'].mean()\n",
    "    cycle_length = cycle_length.append({'ClientID':clientID[i],'mean_length':mean_length,'target':target},ignore_index=True)\n",
    "   \n"
   ]
  },
  {
   "cell_type": "code",
   "execution_count": null,
   "metadata": {},
   "outputs": [],
   "source": [
    "target_unique = cycle_length.target.unique()\n",
    "for t in target_unique:\n",
    "    temp = cycle_length[cycle_length['target']==t]\n",
    "    average = temp['mean_length'].mean()\n",
    "    print(t,average)\n",
    "    "
   ]
  },
  {
   "cell_type": "code",
   "execution_count": null,
   "metadata": {},
   "outputs": [],
   "source": []
  }
 ],
 "metadata": {
  "kernelspec": {
   "display_name": "Python 3",
   "language": "python",
   "name": "python3"
  },
  "language_info": {
   "codemirror_mode": {
    "name": "ipython",
    "version": 3
   },
   "file_extension": ".py",
   "mimetype": "text/x-python",
   "name": "python",
   "nbconvert_exporter": "python",
   "pygments_lexer": "ipython3",
   "version": "3.8.8"
  }
 },
 "nbformat": 4,
 "nbformat_minor": 2
}
