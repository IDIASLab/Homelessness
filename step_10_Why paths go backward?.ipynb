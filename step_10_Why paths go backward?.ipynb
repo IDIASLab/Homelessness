{
 "cells": [
  {
   "cell_type": "code",
   "execution_count": null,
   "metadata": {},
   "outputs": [],
   "source": [
    "import pandas as pd\n",
    "import matplotlib.pyplot as plt\n",
    "import seaborn as sns\n",
    "import numpy as np\n",
    "import os\n",
    "import random as rn\n",
    "from sklearn.metrics.pairwise import cosine_similarity\n",
    "import warnings\n",
    "warnings.simplefilter(action='ignore', category=FutureWarning)\n"
   ]
  },
  {
   "cell_type": "code",
   "execution_count": null,
   "metadata": {},
   "outputs": [],
   "source": [
    "path =   # Enter the directory of your project folder\n",
    "PATH = path + \"/Results\"\n",
    "\n",
    "if not os.path.exists(PATH):\n",
    "    os.mkdir(PATH) "
   ]
  },
  {
   "cell_type": "code",
   "execution_count": null,
   "metadata": {},
   "outputs": [],
   "source": [
    "df = pd.read_csv(path+\"//ToyDataset.csv\").drop(['Unnamed: 0'],axis=1)\n",
    "df1 = pd.read_csv(PATH+\"//Data one hot encoded.csv\").drop(['Unnamed: 0'],axis=1)\n",
    "clientID = df.ClientID.unique()\n",
    "\n",
    "df[\"EntryDate\"] = pd.to_datetime(df['EntryDate'])\n",
    "df[\"ExitDate\"] = pd.to_datetime(df['ExitDate'])\n",
    "df = df.sort_values([\"EntryDate\",'ExitDate']).reset_index(drop=True)\n",
    "df1[\"EntryDate\"] = pd.to_datetime(df1['EntryDate'])\n",
    "df1[\"ExitDate\"] = pd.to_datetime(df1['ExitDate'])\n",
    "df1 = df1.sort_values([\"EntryDate\",'ExitDate']).reset_index(drop=True)"
   ]
  },
  {
   "cell_type": "code",
   "execution_count": null,
   "metadata": {},
   "outputs": [],
   "source": [
    "# separating the living situation and the exit destination into categories\n",
    "goal = [10,11]\n",
    "closer = [3,19,20,21,22,23,25,26,28,31]\n",
    "trans = [1,2,4,5,6,12,13,14,15,18,27,29]\n",
    "no_progress = [7,16]\n",
    "hard_to_judge = [8,9,17,24,30,99]"
   ]
  },
  {
   "cell_type": "code",
   "execution_count": null,
   "metadata": {
    "scrolled": false
   },
   "outputs": [],
   "source": [
    "# preparing the data for target\n",
    "T = pd.DataFrame()\n",
    "t = [\"ultimate goal\",\"closer to exit\",\"transitional phase\",\"no progress or worse\",\"hard to judge\"]\n",
    "for i in [goal,closer,trans,no_progress,hard_to_judge]:\n",
    "    \n",
    "    temp = df1.loc[df[df['Destination'].isin(i)].index] \n",
    "    temp = temp.drop(['EnrollmentID', 'ClientID', 'ProjectID', 'EntryDate', \n",
    "                'ProjectType', 'ExitID', 'ExitDate', 'HouseholdID'],axis = 1)\n",
    "    if i == goal:\n",
    "        y = pd.DataFrame([\"ultimate goal\"],index=['target'])\n",
    "    elif i == closer:\n",
    "        y = pd.DataFrame([\"closer to exit\"],index=['target'])\n",
    "    elif i == trans:\n",
    "        y = pd.DataFrame([\"transitional phase\"],index=['target'])\n",
    "    elif i == no_progress:\n",
    "        y = pd.DataFrame([\"no progress or worse\"],index=['target'])\n",
    "    elif i == hard_to_judge:\n",
    "        y = pd.DataFrame([\"hard to judge\"],index=['target'])\n",
    "        \n",
    "    x = pd.concat([y,temp.sum(axis=0)])\n",
    "    T = T.append(x.T,ignore_index=True)\n",
    "    \n",
    "# preparing the data for project type\n",
    "A = df1[[\"EnrollmentID\",\"ClientID\",\"ProjectType\"]]\n",
    "M = df1.drop([\"ProjectType\"],axis = 1)\n",
    "p = np.sort(A['ProjectType'].unique())\n",
    "P = len(p)\n",
    "F = pd.DataFrame()\n",
    "for i in range(P):\n",
    "    S = A[A[\"ProjectType\"]==p[i]]\n",
    "    M_S = M[M['EnrollmentID'].isin(S['EnrollmentID'])].drop(['EnrollmentID', 'ClientID', 'ProjectID', 'EntryDate',\n",
    "        'ExitID','ExitDate','HouseholdID'],axis = 1)\n",
    "    y = pd.DataFrame([p[i]],index=['target'])\n",
    "    M_S = pd.concat([y,M_S.sum(axis=0)])\n",
    "    F = F.append(M_S.T,ignore_index=True)\n",
    "\n",
    "F = F.append(T,ignore_index = True)\n",
    "F = F.set_index('target')"
   ]
  },
  {
   "cell_type": "code",
   "execution_count": null,
   "metadata": {},
   "outputs": [],
   "source": [
    "\n",
    "\n",
    "# calculating tf_idf for project type\n",
    "tf_idf = pd.DataFrame([],index = F.index, columns = F.columns)\n",
    "for i in range(len(F.index)):\n",
    "    for j in range(len(F.columns)):\n",
    "        temp = F[F.columns[j]]\n",
    "        tf = temp.loc[F.index[i]]\n",
    "        n = len(temp[temp!=0])+1\n",
    "        tf_idf.loc[F.index[i]][F.columns[j]] = tf * max(0,np.log(P/n))\n",
    "\n",
    "tf_idf_norm = pd.DataFrame([],index = tf_idf.index, columns = tf_idf.columns)\n",
    "total = list(p) + t  \n",
    "for i in  total:\n",
    "    if np.sqrt(np.square(tf_idf).sum(axis=1)).loc[i] == 0:\n",
    "            tf_idf_norm.loc[i] = 0\n",
    "    else:\n",
    "        tf_idf_norm.loc[i] = tf_idf.loc[i]/np.sqrt(np.square(tf_idf).sum(axis=1)).loc[i]\n",
    "    \n",
    "tf_idf_norm.to_csv(PATH+\"//Normalized TF_IDF for project type and target.csv\")\n",
    "\n",
    "tf_idf_norm = pd.read_csv(PATH+\"//Normalized TF_IDF for project type and target.csv\")\n",
    "tf_idf_norm = tf_idf_norm.set_index(\"target\",drop=True)"
   ]
  },
  {
   "cell_type": "code",
   "execution_count": null,
   "metadata": {},
   "outputs": [],
   "source": [
    "data = pd.DataFrame(columns=['ClientID','click',\"dest\",\"backlink\",'cos-tf-idf'])\n",
    "for i in range(len(clientID)):\n",
    "    temp = df[df['ClientID']==clientID[i]].reset_index(drop=True)\n",
    "    closed = [temp['ProjectType'].iloc[0]]\n",
    "    backlink = 0\n",
    "    for k in range(len(temp)-1):\n",
    "        cos = pd.DataFrame(tf_idf_norm.loc[str(temp['ProjectType'].iloc[k])]) \n",
    "        cos = cos.T.append(tf_idf_norm.loc[str(temp['ProjectType'].iloc[k+1])],ignore_index=True)\n",
    "        cosine_sim = cosine_similarity(cos)[0][1]\n",
    "        if temp['ProjectType'].iloc[k+1] not in closed:\n",
    "            closed = closed + [temp['ProjectType'].iloc[k+1]]\n",
    "            backlink = 0\n",
    "        else:\n",
    "            backlink = 1\n",
    "            \n",
    "        if temp['Destination'].iloc[-1] in goal:\n",
    "            if backlink == 1:\n",
    "                data = data.append({'ClientID':clientID[i],'click':(temp['ProjectType'].iloc[k],temp['ProjectType'].iloc[k+1]),\"dest\":'successful','cos-tf-idf':cosine_sim,'backlink':'yes'},ignore_index=True)\n",
    "            elif backlink == 0:\n",
    "                data = data.append({'ClientID':clientID[i],'click':(temp['ProjectType'].iloc[k],temp['ProjectType'].iloc[k+1]),\"dest\":'successful','cos-tf-idf':cosine_sim,'backlink':'no'},ignore_index=True)\n",
    "        elif np.isnan(temp['Destination'].iloc[-1]):\n",
    "            if backlink == 1:\n",
    "                data = data.append({'ClientID':clientID[i],'click':(temp['ProjectType'].iloc[k],temp['ProjectType'].iloc[k+1]),\"dest\":'abandoned','cos-tf-idf':cosine_sim,'backlink':'yes'},ignore_index=True)\n",
    "            elif backlink == 0:\n",
    "                data = data.append({'ClientID':clientID[i],'click':(temp['ProjectType'].iloc[k],temp['ProjectType'].iloc[k+1]),\"dest\":'abandoned','cos-tf-idf':cosine_sim,'backlink':'no'},ignore_index=True)        \n",
    "        else:\n",
    "            if backlink == 1:\n",
    "                data = data.append({'ClientID':clientID[i],'click':(temp['ProjectType'].iloc[k],temp['ProjectType'].iloc[k+1]),\"dest\":'unsuccessful','cos-tf-idf':cosine_sim,'backlink':'yes'},ignore_index=True)\n",
    "            elif backlink == 0:\n",
    "                data = data.append({'ClientID':clientID[i],'click':(temp['ProjectType'].iloc[k],temp['ProjectType'].iloc[k+1]),\"dest\":'unsuccessful','cos-tf-idf':cosine_sim,'backlink':'no'},ignore_index=True)\n",
    "\n",
    "\n",
    "            "
   ]
  },
  {
   "cell_type": "code",
   "execution_count": null,
   "metadata": {},
   "outputs": [],
   "source": [
    "change = pd.DataFrame(columns=['ClientID','click','backlink','change','type','dest'])\n",
    "for i in range(len(clientID)):\n",
    "    temp = data[data['ClientID']==clientID[i]].reset_index(drop=True)\n",
    "    if len(temp) > 1:\n",
    "        for k in range(1,len(temp)):\n",
    "            c = temp['cos-tf-idf'].iloc[k]-temp['cos-tf-idf'].iloc[k-1]\n",
    "            if c > 0:\n",
    "                change = change.append({'ClientID':clientID[i],'click':temp['click'].iloc[k],'backlink':temp['backlink'].iloc[k],'change':c,'type':'increase','dest':temp['dest'].iloc[k]},ignore_index=True)\n",
    "            elif c == 0:\n",
    "                change = change.append({'ClientID':clientID[i],'click':temp['click'].iloc[k],'backlink':temp['backlink'].iloc[k],'change':c,'type':'no change','dest':temp['dest'].iloc[k]},ignore_index=True)\n",
    "            elif c < 0:\n",
    "                change = change.append({'ClientID':clientID[i],'click':temp['click'].iloc[k],'backlink':temp['backlink'].iloc[k],'change':c,'type':'decrease','dest':temp['dest'].iloc[k]},ignore_index=True)\n"
   ]
  },
  {
   "cell_type": "code",
   "execution_count": null,
   "metadata": {},
   "outputs": [],
   "source": [
    "change_3var = change.groupby(['dest','type','backlink']).count()['ClientID']"
   ]
  },
  {
   "cell_type": "code",
   "execution_count": null,
   "metadata": {},
   "outputs": [],
   "source": [
    "change_2var = change.groupby(['dest','type']).count()['ClientID']"
   ]
  },
  {
   "cell_type": "code",
   "execution_count": null,
   "metadata": {},
   "outputs": [],
   "source": [
    "dest_unique = change.dest.unique()\n",
    "type_unique = change.type.unique()\n",
    "backlink_unique = change.backlink.unique()"
   ]
  },
  {
   "cell_type": "code",
   "execution_count": null,
   "metadata": {},
   "outputs": [],
   "source": [
    "prob = pd.DataFrame(columns=['dest','conditioned on','backlink','prob'])\n",
    "for i in dest_unique:\n",
    "    var3 = change_3var.loc[i]\n",
    "    var2 = change_2var.loc[i]\n",
    "    for j in type_unique:\n",
    "        total = var2.loc[j]\n",
    "        prob_cond = var3.loc[j]/total\n",
    "        for k in backlink_unique:\n",
    "            if k not in prob_cond:\n",
    "                continue\n",
    "            prob = prob.append({'dest':i,'backlink':k,'conditioned on':j,'prob':prob_cond.loc[k]},ignore_index=True)\n",
    "    "
   ]
  },
  {
   "cell_type": "code",
   "execution_count": null,
   "metadata": {},
   "outputs": [],
   "source": [
    "prob"
   ]
  },
  {
   "cell_type": "code",
   "execution_count": null,
   "metadata": {},
   "outputs": [],
   "source": []
  }
 ],
 "metadata": {
  "kernelspec": {
   "display_name": "Python 3",
   "language": "python",
   "name": "python3"
  },
  "language_info": {
   "codemirror_mode": {
    "name": "ipython",
    "version": 3
   },
   "file_extension": ".py",
   "mimetype": "text/x-python",
   "name": "python",
   "nbconvert_exporter": "python",
   "pygments_lexer": "ipython3",
   "version": "3.8.8"
  }
 },
 "nbformat": 4,
 "nbformat_minor": 2
}
