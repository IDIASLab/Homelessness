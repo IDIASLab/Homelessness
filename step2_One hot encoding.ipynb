{
 "cells": [
  {
   "cell_type": "code",
   "execution_count": 2,
   "metadata": {},
   "outputs": [],
   "source": [
    "import pandas as pd\n",
    "import numpy as np\n",
    "import matplotlib.pyplot as plt\n",
    "import os\n"
   ]
  },
  {
   "cell_type": "code",
   "execution_count": 3,
   "metadata": {},
   "outputs": [],
   "source": [
    "path =  #  # Enter the directory of your project folder\n",
    "PATH = path + \"/Results\"\n",
    "\n",
    "if not os.path.exists(PATH):\n",
    "    os.mkdir(PATH) \n",
    "\n",
    "\n"
   ]
  },
  {
   "cell_type": "code",
   "execution_count": 4,
   "metadata": {},
   "outputs": [],
   "source": [
    "# Dataframe preparation\n",
    "df = pd.read_csv(path+\"//ToyDataset.csv\").drop(['Unnamed: 0'],axis=1)\n",
    "\n",
    "clientID = df[\"ClientID\"].unique()"
   ]
  },
  {
   "cell_type": "code",
   "execution_count": 5,
   "metadata": {},
   "outputs": [],
   "source": [
    "# binning the benefit total, member number, and children number\n",
    "\n",
    "df['Benefit total']\n",
    "bins = [-0.5, 2000,8000]\n",
    "labels = [1,2]\n",
    "\n",
    "df['Benefit total_binned'] = pd.cut(df['Benefit total'],  bins=bins, labels=labels)"
   ]
  },
  {
   "cell_type": "code",
   "execution_count": 6,
   "metadata": {},
   "outputs": [],
   "source": [
    "df['memberNo']\n",
    "bins = [0,2,7]\n",
    "labels = [\"small\",\"big\"]\n",
    "\n",
    "df['memberNo_binned'] = pd.cut(df['memberNo'],  bins=bins, labels=labels)"
   ]
  },
  {
   "cell_type": "code",
   "execution_count": 7,
   "metadata": {},
   "outputs": [],
   "source": [
    "df['childrenNo']\n",
    "bins = [-1,1,7]\n",
    "labels = [\"small\",\"big\"]\n",
    "\n",
    "df['childrenNo_binned'] = pd.cut(df['childrenNo'],  bins=bins, labels=labels)"
   ]
  },
  {
   "cell_type": "code",
   "execution_count": 8,
   "metadata": {},
   "outputs": [],
   "source": [
    "df = df.drop(['Benefit total','memberNo','childrenNo'],axis=1)"
   ]
  },
  {
   "cell_type": "code",
   "execution_count": 9,
   "metadata": {},
   "outputs": [],
   "source": [
    "data = df.drop(['EnrollmentID', 'ClientID', 'ProjectID', 'EntryDate', 'ProjectType',\n",
    "       'ExitID', 'ExitDate','HouseholdID'],axis = 1)\n",
    "cols = data.columns\n",
    "data_final = pd.DataFrame([])\n",
    "for i in cols:\n",
    "    x = pd.get_dummies(data[i],prefix=i)\n",
    "    data_final = pd.concat([data_final,x],axis=1)\n",
    "data = df.drop(cols,axis=1)\n",
    "data = pd.concat([data,data_final],axis=1)\n",
    "data.to_csv(PATH+\"//Data one hot encoded.csv\")"
   ]
  },
  {
   "cell_type": "code",
   "execution_count": null,
   "metadata": {},
   "outputs": [],
   "source": []
  }
 ],
 "metadata": {
  "kernelspec": {
   "display_name": "Python 3",
   "language": "python",
   "name": "python3"
  },
  "language_info": {
   "codemirror_mode": {
    "name": "ipython",
    "version": 3
   },
   "file_extension": ".py",
   "mimetype": "text/x-python",
   "name": "python",
   "nbconvert_exporter": "python",
   "pygments_lexer": "ipython3",
   "version": "3.8.8"
  }
 },
 "nbformat": 4,
 "nbformat_minor": 2
}
